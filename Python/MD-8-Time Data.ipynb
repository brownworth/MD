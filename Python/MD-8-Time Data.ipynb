{
 "cells": [
  {
   "cell_type": "markdown",
   "metadata": {},
   "source": [
    "# Time-based Data"
   ]
  },
  {
   "cell_type": "markdown",
   "metadata": {},
   "source": [
    "This lesson, we'll be working with some of the ways that Python/Pandas can manipulate data based upon a time index. But, like everything we've done, it doesn't always start out the way we want it."
   ]
  },
  {
   "cell_type": "code",
   "execution_count": 1,
   "metadata": {},
   "outputs": [],
   "source": [
    "import pandas as pd\n",
    "import numpy as np"
   ]
  },
  {
   "cell_type": "markdown",
   "metadata": {},
   "source": [
    "The next two links are the data, and a README file that describes the data format. To keep it somewhat close-to-home, the data contained in the first link is from Durham, NC."
   ]
  },
  {
   "cell_type": "markdown",
   "metadata": {},
   "source": [
    "https://www1.ncdc.noaa.gov/pub/data/uscrn/products/subhourly01/2018/CRNS0101-05-2018-NC_Durham_11_W.txt"
   ]
  },
  {
   "cell_type": "markdown",
   "metadata": {},
   "source": [
    "Clicking on that link, you'll see that there is a bunch of columns, but no headers. It's divided into fixed-width columns, but not with commas, or other single characters. Let's see what the pandas default does with this kind of text:"
   ]
  },
  {
   "cell_type": "code",
   "execution_count": 15,
   "metadata": {},
   "outputs": [
    {
     "data": {
      "text/plain": [
       "'1.14.3'"
      ]
     },
     "execution_count": 15,
     "metadata": {},
     "output_type": "execute_result"
    }
   ],
   "source": [
    "np.__version__"
   ]
  },
  {
   "cell_type": "code",
   "execution_count": 2,
   "metadata": {},
   "outputs": [
    {
     "data": {
      "text/html": [
       "<div>\n",
       "<style scoped>\n",
       "    .dataframe tbody tr th:only-of-type {\n",
       "        vertical-align: middle;\n",
       "    }\n",
       "\n",
       "    .dataframe tbody tr th {\n",
       "        vertical-align: top;\n",
       "    }\n",
       "\n",
       "    .dataframe thead th {\n",
       "        text-align: right;\n",
       "    }\n",
       "</style>\n",
       "<table border=\"1\" class=\"dataframe\">\n",
       "  <thead>\n",
       "    <tr style=\"text-align: right;\">\n",
       "      <th></th>\n",
       "      <th>03758 20180101 0005 20171231 1905      2  -79.09   35.97    -4.3     0.0      0 0    -3.8 C 0    22 0   0.265     4.4  1217 0   1.76 0</th>\n",
       "    </tr>\n",
       "  </thead>\n",
       "  <tbody>\n",
       "    <tr>\n",
       "      <th>0</th>\n",
       "      <td>03758 20180101 0010 20171231 1910      2  -79....</td>\n",
       "    </tr>\n",
       "    <tr>\n",
       "      <th>1</th>\n",
       "      <td>03758 20180101 0015 20171231 1915      2  -79....</td>\n",
       "    </tr>\n",
       "    <tr>\n",
       "      <th>2</th>\n",
       "      <td>03758 20180101 0020 20171231 1920      2  -79....</td>\n",
       "    </tr>\n",
       "    <tr>\n",
       "      <th>3</th>\n",
       "      <td>03758 20180101 0025 20171231 1925      2  -79....</td>\n",
       "    </tr>\n",
       "    <tr>\n",
       "      <th>4</th>\n",
       "      <td>03758 20180101 0030 20171231 1930      2  -79....</td>\n",
       "    </tr>\n",
       "  </tbody>\n",
       "</table>\n",
       "</div>"
      ],
      "text/plain": [
       "  03758 20180101 0005 20171231 1905      2  -79.09   35.97    -4.3     0.0      0 0    -3.8 C 0    22 0   0.265     4.4  1217 0   1.76 0\n",
       "0  03758 20180101 0010 20171231 1910      2  -79....                                                                                    \n",
       "1  03758 20180101 0015 20171231 1915      2  -79....                                                                                    \n",
       "2  03758 20180101 0020 20171231 1920      2  -79....                                                                                    \n",
       "3  03758 20180101 0025 20171231 1925      2  -79....                                                                                    \n",
       "4  03758 20180101 0030 20171231 1930      2  -79....                                                                                    "
      ]
     },
     "execution_count": 2,
     "metadata": {},
     "output_type": "execute_result"
    }
   ],
   "source": [
    "pd.read_csv(r'./CRNS0101-05-2018-NC_Durham_11_W.txt').head()"
   ]
  },
  {
   "cell_type": "markdown",
   "metadata": {},
   "source": [
    "That's not all that useful. Let's see what the README has to say about it."
   ]
  },
  {
   "cell_type": "markdown",
   "metadata": {},
   "source": [
    "https://www1.ncdc.noaa.gov/pub/data/uscrn/products/subhourly01/README.txt"
   ]
  },
  {
   "cell_type": "markdown",
   "metadata": {},
   "source": [
    "If you scroll down to section 5, you'll see a bit where it describes the columns, but it's in what is essentially a text file. Can we get that into something we'd like? Of course! With Regular Expressions!"
   ]
  },
  {
   "cell_type": "markdown",
   "metadata": {},
   "source": [
    "![Weather Headers](weather_headers.png \"Weather Headers!\")"
   ]
  },
  {
   "cell_type": "markdown",
   "metadata": {},
   "source": [
    "Looking at this list, it's pretty easy to see the information we need, and we should be able to formulate a regular expression to extract the middle column. Let's select the info in the browser; copy and paste into our text editor. We'll work in there. "
   ]
  },
  {
   "cell_type": "code",
   "execution_count": 3,
   "metadata": {},
   "outputs": [],
   "source": [
    "headers = pd.read_csv(r'./weather_headers.csv',header=None,squeeze=True)"
   ]
  },
  {
   "cell_type": "markdown",
   "metadata": {},
   "source": [
    "We'll import the file we just created, but add a new keyword argument, \"squeeze\". This allows the imported single column to be treated as a pandas Series, rather than a pandas DataFrame. This affects the formatting later."
   ]
  },
  {
   "cell_type": "code",
   "execution_count": 4,
   "metadata": {},
   "outputs": [
    {
     "data": {
      "text/plain": [
       "0                  WBANNO\n",
       "1                UTC_DATE\n",
       "2                UTC_TIME\n",
       "3                LST_DATE\n",
       "4                LST_TIME\n",
       "5                  CRX_VN\n",
       "6               LONGITUDE\n",
       "7                LATITUDE\n",
       "8         AIR_TEMPERATURE\n",
       "9           PRECIPITATION\n",
       "10        SOLAR_RADIATION\n",
       "11                SR_FLAG\n",
       "12    SURFACE_TEMPERATURE\n",
       "13                ST_TYPE\n",
       "14                ST_FLAG\n",
       "15      RELATIVE_HUMIDITY\n",
       "16                RH_FLAG\n",
       "17        SOIL_MOISTURE_5\n",
       "18     SOIL_TEMPERATURE_5\n",
       "19                WETNESS\n",
       "20               WET_FLAG\n",
       "21               WIND_1_5\n",
       "22              WIND_FLAG\n",
       "Name: 0, dtype: object"
      ]
     },
     "execution_count": 4,
     "metadata": {},
     "output_type": "execute_result"
    }
   ],
   "source": [
    "headers"
   ]
  },
  {
   "cell_type": "code",
   "execution_count": 5,
   "metadata": {},
   "outputs": [],
   "source": [
    "# pd.read_csv?"
   ]
  },
  {
   "cell_type": "markdown",
   "metadata": {},
   "source": [
    "Now, we'll import the data from the text file doing the following:\n",
    "* split on another regular expression, specifically `\\s+` meaning one or more whitespace characters.\n",
    "* treat the first line as data.\n",
    "* use the 'headers' from above as the headers of the columns\n",
    "* combine the local date and time into a single datetime field"
   ]
  },
  {
   "cell_type": "code",
   "execution_count": 6,
   "metadata": {},
   "outputs": [],
   "source": [
    "noaa_data = pd.read_csv(r'./CRNS0101-05-2018-NC_Durham_11_W.txt',delimiter='\\s+',header=None,names=headers.values,parse_dates=[['LST_DATE','LST_TIME']])"
   ]
  },
  {
   "cell_type": "markdown",
   "metadata": {},
   "source": [
    "Previewing the data, this looks useful."
   ]
  },
  {
   "cell_type": "code",
   "execution_count": 7,
   "metadata": {},
   "outputs": [
    {
     "data": {
      "text/html": [
       "<div>\n",
       "<style scoped>\n",
       "    .dataframe tbody tr th:only-of-type {\n",
       "        vertical-align: middle;\n",
       "    }\n",
       "\n",
       "    .dataframe tbody tr th {\n",
       "        vertical-align: top;\n",
       "    }\n",
       "\n",
       "    .dataframe thead th {\n",
       "        text-align: right;\n",
       "    }\n",
       "</style>\n",
       "<table border=\"1\" class=\"dataframe\">\n",
       "  <thead>\n",
       "    <tr style=\"text-align: right;\">\n",
       "      <th></th>\n",
       "      <th>LST_DATE_LST_TIME</th>\n",
       "      <th>WBANNO</th>\n",
       "      <th>UTC_DATE</th>\n",
       "      <th>UTC_TIME</th>\n",
       "      <th>CRX_VN</th>\n",
       "      <th>LONGITUDE</th>\n",
       "      <th>LATITUDE</th>\n",
       "      <th>AIR_TEMPERATURE</th>\n",
       "      <th>PRECIPITATION</th>\n",
       "      <th>SOLAR_RADIATION</th>\n",
       "      <th>...</th>\n",
       "      <th>ST_TYPE</th>\n",
       "      <th>ST_FLAG</th>\n",
       "      <th>RELATIVE_HUMIDITY</th>\n",
       "      <th>RH_FLAG</th>\n",
       "      <th>SOIL_MOISTURE_5</th>\n",
       "      <th>SOIL_TEMPERATURE_5</th>\n",
       "      <th>WETNESS</th>\n",
       "      <th>WET_FLAG</th>\n",
       "      <th>WIND_1_5</th>\n",
       "      <th>WIND_FLAG</th>\n",
       "    </tr>\n",
       "  </thead>\n",
       "  <tbody>\n",
       "    <tr>\n",
       "      <th>0</th>\n",
       "      <td>2017-12-31 19:05:00</td>\n",
       "      <td>3758</td>\n",
       "      <td>20180101</td>\n",
       "      <td>5</td>\n",
       "      <td>2</td>\n",
       "      <td>-79.09</td>\n",
       "      <td>35.97</td>\n",
       "      <td>-4.3</td>\n",
       "      <td>0.0</td>\n",
       "      <td>0</td>\n",
       "      <td>...</td>\n",
       "      <td>C</td>\n",
       "      <td>0</td>\n",
       "      <td>22</td>\n",
       "      <td>0</td>\n",
       "      <td>0.265</td>\n",
       "      <td>4.4</td>\n",
       "      <td>1217</td>\n",
       "      <td>0</td>\n",
       "      <td>1.76</td>\n",
       "      <td>0</td>\n",
       "    </tr>\n",
       "    <tr>\n",
       "      <th>1</th>\n",
       "      <td>2017-12-31 19:10:00</td>\n",
       "      <td>3758</td>\n",
       "      <td>20180101</td>\n",
       "      <td>10</td>\n",
       "      <td>2</td>\n",
       "      <td>-79.09</td>\n",
       "      <td>35.97</td>\n",
       "      <td>-4.3</td>\n",
       "      <td>0.0</td>\n",
       "      <td>0</td>\n",
       "      <td>...</td>\n",
       "      <td>C</td>\n",
       "      <td>0</td>\n",
       "      <td>22</td>\n",
       "      <td>0</td>\n",
       "      <td>0.265</td>\n",
       "      <td>4.4</td>\n",
       "      <td>1217</td>\n",
       "      <td>0</td>\n",
       "      <td>1.51</td>\n",
       "      <td>0</td>\n",
       "    </tr>\n",
       "    <tr>\n",
       "      <th>2</th>\n",
       "      <td>2017-12-31 19:15:00</td>\n",
       "      <td>3758</td>\n",
       "      <td>20180101</td>\n",
       "      <td>15</td>\n",
       "      <td>2</td>\n",
       "      <td>-79.09</td>\n",
       "      <td>35.97</td>\n",
       "      <td>-4.3</td>\n",
       "      <td>0.0</td>\n",
       "      <td>0</td>\n",
       "      <td>...</td>\n",
       "      <td>C</td>\n",
       "      <td>0</td>\n",
       "      <td>22</td>\n",
       "      <td>0</td>\n",
       "      <td>0.265</td>\n",
       "      <td>4.3</td>\n",
       "      <td>1211</td>\n",
       "      <td>0</td>\n",
       "      <td>1.56</td>\n",
       "      <td>0</td>\n",
       "    </tr>\n",
       "    <tr>\n",
       "      <th>3</th>\n",
       "      <td>2017-12-31 19:20:00</td>\n",
       "      <td>3758</td>\n",
       "      <td>20180101</td>\n",
       "      <td>20</td>\n",
       "      <td>2</td>\n",
       "      <td>-79.09</td>\n",
       "      <td>35.97</td>\n",
       "      <td>-4.3</td>\n",
       "      <td>0.0</td>\n",
       "      <td>0</td>\n",
       "      <td>...</td>\n",
       "      <td>C</td>\n",
       "      <td>0</td>\n",
       "      <td>22</td>\n",
       "      <td>0</td>\n",
       "      <td>0.265</td>\n",
       "      <td>4.3</td>\n",
       "      <td>1217</td>\n",
       "      <td>0</td>\n",
       "      <td>2.07</td>\n",
       "      <td>0</td>\n",
       "    </tr>\n",
       "    <tr>\n",
       "      <th>4</th>\n",
       "      <td>2017-12-31 19:25:00</td>\n",
       "      <td>3758</td>\n",
       "      <td>20180101</td>\n",
       "      <td>25</td>\n",
       "      <td>2</td>\n",
       "      <td>-79.09</td>\n",
       "      <td>35.97</td>\n",
       "      <td>-4.3</td>\n",
       "      <td>0.0</td>\n",
       "      <td>0</td>\n",
       "      <td>...</td>\n",
       "      <td>C</td>\n",
       "      <td>0</td>\n",
       "      <td>22</td>\n",
       "      <td>0</td>\n",
       "      <td>0.265</td>\n",
       "      <td>4.3</td>\n",
       "      <td>1217</td>\n",
       "      <td>0</td>\n",
       "      <td>1.86</td>\n",
       "      <td>0</td>\n",
       "    </tr>\n",
       "  </tbody>\n",
       "</table>\n",
       "<p>5 rows × 22 columns</p>\n",
       "</div>"
      ],
      "text/plain": [
       "    LST_DATE_LST_TIME  WBANNO  UTC_DATE  UTC_TIME  CRX_VN  LONGITUDE  \\\n",
       "0 2017-12-31 19:05:00    3758  20180101         5       2     -79.09   \n",
       "1 2017-12-31 19:10:00    3758  20180101        10       2     -79.09   \n",
       "2 2017-12-31 19:15:00    3758  20180101        15       2     -79.09   \n",
       "3 2017-12-31 19:20:00    3758  20180101        20       2     -79.09   \n",
       "4 2017-12-31 19:25:00    3758  20180101        25       2     -79.09   \n",
       "\n",
       "   LATITUDE  AIR_TEMPERATURE  PRECIPITATION  SOLAR_RADIATION    ...      \\\n",
       "0     35.97             -4.3            0.0                0    ...       \n",
       "1     35.97             -4.3            0.0                0    ...       \n",
       "2     35.97             -4.3            0.0                0    ...       \n",
       "3     35.97             -4.3            0.0                0    ...       \n",
       "4     35.97             -4.3            0.0                0    ...       \n",
       "\n",
       "   ST_TYPE  ST_FLAG RELATIVE_HUMIDITY  RH_FLAG  SOIL_MOISTURE_5  \\\n",
       "0        C        0                22        0            0.265   \n",
       "1        C        0                22        0            0.265   \n",
       "2        C        0                22        0            0.265   \n",
       "3        C        0                22        0            0.265   \n",
       "4        C        0                22        0            0.265   \n",
       "\n",
       "   SOIL_TEMPERATURE_5  WETNESS  WET_FLAG  WIND_1_5  WIND_FLAG  \n",
       "0                 4.4     1217         0      1.76          0  \n",
       "1                 4.4     1217         0      1.51          0  \n",
       "2                 4.3     1211         0      1.56          0  \n",
       "3                 4.3     1217         0      2.07          0  \n",
       "4                 4.3     1217         0      1.86          0  \n",
       "\n",
       "[5 rows x 22 columns]"
      ]
     },
     "execution_count": 7,
     "metadata": {},
     "output_type": "execute_result"
    }
   ],
   "source": [
    "noaa_data.head()"
   ]
  },
  {
   "cell_type": "markdown",
   "metadata": {},
   "source": [
    "Since these samples occur about every 5 minutes, we'll change the index to be the datetime. This will allow for some other functionality."
   ]
  },
  {
   "cell_type": "code",
   "execution_count": 8,
   "metadata": {},
   "outputs": [],
   "source": [
    "noaa_data.set_index('LST_DATE_LST_TIME',inplace=True)"
   ]
  },
  {
   "cell_type": "code",
   "execution_count": 9,
   "metadata": {},
   "outputs": [
    {
     "data": {
      "text/html": [
       "<div>\n",
       "<style scoped>\n",
       "    .dataframe tbody tr th:only-of-type {\n",
       "        vertical-align: middle;\n",
       "    }\n",
       "\n",
       "    .dataframe tbody tr th {\n",
       "        vertical-align: top;\n",
       "    }\n",
       "\n",
       "    .dataframe thead th {\n",
       "        text-align: right;\n",
       "    }\n",
       "</style>\n",
       "<table border=\"1\" class=\"dataframe\">\n",
       "  <thead>\n",
       "    <tr style=\"text-align: right;\">\n",
       "      <th></th>\n",
       "      <th>WBANNO</th>\n",
       "      <th>UTC_DATE</th>\n",
       "      <th>UTC_TIME</th>\n",
       "      <th>CRX_VN</th>\n",
       "      <th>LONGITUDE</th>\n",
       "      <th>LATITUDE</th>\n",
       "      <th>AIR_TEMPERATURE</th>\n",
       "      <th>PRECIPITATION</th>\n",
       "      <th>SOLAR_RADIATION</th>\n",
       "      <th>SR_FLAG</th>\n",
       "      <th>...</th>\n",
       "      <th>ST_TYPE</th>\n",
       "      <th>ST_FLAG</th>\n",
       "      <th>RELATIVE_HUMIDITY</th>\n",
       "      <th>RH_FLAG</th>\n",
       "      <th>SOIL_MOISTURE_5</th>\n",
       "      <th>SOIL_TEMPERATURE_5</th>\n",
       "      <th>WETNESS</th>\n",
       "      <th>WET_FLAG</th>\n",
       "      <th>WIND_1_5</th>\n",
       "      <th>WIND_FLAG</th>\n",
       "    </tr>\n",
       "    <tr>\n",
       "      <th>LST_DATE_LST_TIME</th>\n",
       "      <th></th>\n",
       "      <th></th>\n",
       "      <th></th>\n",
       "      <th></th>\n",
       "      <th></th>\n",
       "      <th></th>\n",
       "      <th></th>\n",
       "      <th></th>\n",
       "      <th></th>\n",
       "      <th></th>\n",
       "      <th></th>\n",
       "      <th></th>\n",
       "      <th></th>\n",
       "      <th></th>\n",
       "      <th></th>\n",
       "      <th></th>\n",
       "      <th></th>\n",
       "      <th></th>\n",
       "      <th></th>\n",
       "      <th></th>\n",
       "      <th></th>\n",
       "    </tr>\n",
       "  </thead>\n",
       "  <tbody>\n",
       "    <tr>\n",
       "      <th>2017-12-31 19:05:00</th>\n",
       "      <td>3758</td>\n",
       "      <td>20180101</td>\n",
       "      <td>5</td>\n",
       "      <td>2</td>\n",
       "      <td>-79.09</td>\n",
       "      <td>35.97</td>\n",
       "      <td>-4.3</td>\n",
       "      <td>0.0</td>\n",
       "      <td>0</td>\n",
       "      <td>0</td>\n",
       "      <td>...</td>\n",
       "      <td>C</td>\n",
       "      <td>0</td>\n",
       "      <td>22</td>\n",
       "      <td>0</td>\n",
       "      <td>0.265</td>\n",
       "      <td>4.4</td>\n",
       "      <td>1217</td>\n",
       "      <td>0</td>\n",
       "      <td>1.76</td>\n",
       "      <td>0</td>\n",
       "    </tr>\n",
       "    <tr>\n",
       "      <th>2017-12-31 19:10:00</th>\n",
       "      <td>3758</td>\n",
       "      <td>20180101</td>\n",
       "      <td>10</td>\n",
       "      <td>2</td>\n",
       "      <td>-79.09</td>\n",
       "      <td>35.97</td>\n",
       "      <td>-4.3</td>\n",
       "      <td>0.0</td>\n",
       "      <td>0</td>\n",
       "      <td>0</td>\n",
       "      <td>...</td>\n",
       "      <td>C</td>\n",
       "      <td>0</td>\n",
       "      <td>22</td>\n",
       "      <td>0</td>\n",
       "      <td>0.265</td>\n",
       "      <td>4.4</td>\n",
       "      <td>1217</td>\n",
       "      <td>0</td>\n",
       "      <td>1.51</td>\n",
       "      <td>0</td>\n",
       "    </tr>\n",
       "    <tr>\n",
       "      <th>2017-12-31 19:15:00</th>\n",
       "      <td>3758</td>\n",
       "      <td>20180101</td>\n",
       "      <td>15</td>\n",
       "      <td>2</td>\n",
       "      <td>-79.09</td>\n",
       "      <td>35.97</td>\n",
       "      <td>-4.3</td>\n",
       "      <td>0.0</td>\n",
       "      <td>0</td>\n",
       "      <td>0</td>\n",
       "      <td>...</td>\n",
       "      <td>C</td>\n",
       "      <td>0</td>\n",
       "      <td>22</td>\n",
       "      <td>0</td>\n",
       "      <td>0.265</td>\n",
       "      <td>4.3</td>\n",
       "      <td>1211</td>\n",
       "      <td>0</td>\n",
       "      <td>1.56</td>\n",
       "      <td>0</td>\n",
       "    </tr>\n",
       "    <tr>\n",
       "      <th>2017-12-31 19:20:00</th>\n",
       "      <td>3758</td>\n",
       "      <td>20180101</td>\n",
       "      <td>20</td>\n",
       "      <td>2</td>\n",
       "      <td>-79.09</td>\n",
       "      <td>35.97</td>\n",
       "      <td>-4.3</td>\n",
       "      <td>0.0</td>\n",
       "      <td>0</td>\n",
       "      <td>0</td>\n",
       "      <td>...</td>\n",
       "      <td>C</td>\n",
       "      <td>0</td>\n",
       "      <td>22</td>\n",
       "      <td>0</td>\n",
       "      <td>0.265</td>\n",
       "      <td>4.3</td>\n",
       "      <td>1217</td>\n",
       "      <td>0</td>\n",
       "      <td>2.07</td>\n",
       "      <td>0</td>\n",
       "    </tr>\n",
       "    <tr>\n",
       "      <th>2017-12-31 19:25:00</th>\n",
       "      <td>3758</td>\n",
       "      <td>20180101</td>\n",
       "      <td>25</td>\n",
       "      <td>2</td>\n",
       "      <td>-79.09</td>\n",
       "      <td>35.97</td>\n",
       "      <td>-4.3</td>\n",
       "      <td>0.0</td>\n",
       "      <td>0</td>\n",
       "      <td>0</td>\n",
       "      <td>...</td>\n",
       "      <td>C</td>\n",
       "      <td>0</td>\n",
       "      <td>22</td>\n",
       "      <td>0</td>\n",
       "      <td>0.265</td>\n",
       "      <td>4.3</td>\n",
       "      <td>1217</td>\n",
       "      <td>0</td>\n",
       "      <td>1.86</td>\n",
       "      <td>0</td>\n",
       "    </tr>\n",
       "  </tbody>\n",
       "</table>\n",
       "<p>5 rows × 21 columns</p>\n",
       "</div>"
      ],
      "text/plain": [
       "                     WBANNO  UTC_DATE  UTC_TIME  CRX_VN  LONGITUDE  LATITUDE  \\\n",
       "LST_DATE_LST_TIME                                                              \n",
       "2017-12-31 19:05:00    3758  20180101         5       2     -79.09     35.97   \n",
       "2017-12-31 19:10:00    3758  20180101        10       2     -79.09     35.97   \n",
       "2017-12-31 19:15:00    3758  20180101        15       2     -79.09     35.97   \n",
       "2017-12-31 19:20:00    3758  20180101        20       2     -79.09     35.97   \n",
       "2017-12-31 19:25:00    3758  20180101        25       2     -79.09     35.97   \n",
       "\n",
       "                     AIR_TEMPERATURE  PRECIPITATION  SOLAR_RADIATION  SR_FLAG  \\\n",
       "LST_DATE_LST_TIME                                                               \n",
       "2017-12-31 19:05:00             -4.3            0.0                0        0   \n",
       "2017-12-31 19:10:00             -4.3            0.0                0        0   \n",
       "2017-12-31 19:15:00             -4.3            0.0                0        0   \n",
       "2017-12-31 19:20:00             -4.3            0.0                0        0   \n",
       "2017-12-31 19:25:00             -4.3            0.0                0        0   \n",
       "\n",
       "                       ...      ST_TYPE ST_FLAG  RELATIVE_HUMIDITY  RH_FLAG  \\\n",
       "LST_DATE_LST_TIME      ...                                                    \n",
       "2017-12-31 19:05:00    ...            C       0                 22        0   \n",
       "2017-12-31 19:10:00    ...            C       0                 22        0   \n",
       "2017-12-31 19:15:00    ...            C       0                 22        0   \n",
       "2017-12-31 19:20:00    ...            C       0                 22        0   \n",
       "2017-12-31 19:25:00    ...            C       0                 22        0   \n",
       "\n",
       "                     SOIL_MOISTURE_5  SOIL_TEMPERATURE_5  WETNESS  WET_FLAG  \\\n",
       "LST_DATE_LST_TIME                                                             \n",
       "2017-12-31 19:05:00            0.265                 4.4     1217         0   \n",
       "2017-12-31 19:10:00            0.265                 4.4     1217         0   \n",
       "2017-12-31 19:15:00            0.265                 4.3     1211         0   \n",
       "2017-12-31 19:20:00            0.265                 4.3     1217         0   \n",
       "2017-12-31 19:25:00            0.265                 4.3     1217         0   \n",
       "\n",
       "                     WIND_1_5  WIND_FLAG  \n",
       "LST_DATE_LST_TIME                         \n",
       "2017-12-31 19:05:00      1.76          0  \n",
       "2017-12-31 19:10:00      1.51          0  \n",
       "2017-12-31 19:15:00      1.56          0  \n",
       "2017-12-31 19:20:00      2.07          0  \n",
       "2017-12-31 19:25:00      1.86          0  \n",
       "\n",
       "[5 rows x 21 columns]"
      ]
     },
     "execution_count": 9,
     "metadata": {},
     "output_type": "execute_result"
    }
   ],
   "source": [
    "noaa_data.head()"
   ]
  },
  {
   "cell_type": "markdown",
   "metadata": {},
   "source": [
    "Using the `.groupby()` method, and an aggregate function, we can start to see some grouped data. We're also introducing `pd.Grouper`, a method for grouping by characteristics such as time. In this case, Pandas will take the data separated by 5 minute increments, group by some time frequency, and then apply a function to that group. Here we're grouping by week and getting the average air temperature for that week:"
   ]
  },
  {
   "cell_type": "code",
   "execution_count": 10,
   "metadata": {},
   "outputs": [
    {
     "data": {
      "text/plain": [
       "LST_DATE_LST_TIME\n",
       "2017-12-31     -4.528814\n",
       "2018-01-07     -7.237847\n",
       "2018-01-14      6.990625\n",
       "2018-01-21      0.747569\n",
       "2018-01-28      8.395089\n",
       "2018-02-04      2.817708\n",
       "2018-02-11      8.598810\n",
       "2018-02-18     11.144494\n",
       "2018-02-25     16.084524\n",
       "2018-03-04      8.591121\n",
       "2018-03-11      4.532242\n",
       "2018-03-18      6.572669\n",
       "2018-03-25      5.911409\n",
       "2018-04-01     12.809970\n",
       "2018-04-08     12.107837\n",
       "2018-04-15     14.936558\n",
       "2018-04-22     12.446776\n",
       "2018-04-29    -44.525942\n",
       "2018-05-06     19.035268\n",
       "2018-05-13     20.755060\n",
       "2018-05-20     22.814236\n",
       "2018-05-27     22.898760\n",
       "2018-06-03   -214.974206\n",
       "2018-06-10     22.816915\n",
       "2018-06-17     23.292510\n",
       "2018-06-24     26.877282\n",
       "2018-07-01     24.928472\n",
       "2018-07-08     24.993353\n",
       "2018-07-15     24.147272\n",
       "2018-07-22     24.144544\n",
       "2018-07-29     24.514484\n",
       "2018-08-05     19.234970\n",
       "2018-08-12     26.266321\n",
       "Freq: W-SUN, Name: AIR_TEMPERATURE, dtype: float64"
      ]
     },
     "execution_count": 10,
     "metadata": {},
     "output_type": "execute_result"
    }
   ],
   "source": [
    "noaa_data.loc[:,'AIR_TEMPERATURE'].groupby(pd.Grouper(freq='W')).mean()"
   ]
  },
  {
   "cell_type": "markdown",
   "metadata": {},
   "source": [
    "Something is going on in April, May, or June. Is it really that close to absolute zero at the end of spring?"
   ]
  },
  {
   "cell_type": "code",
   "execution_count": 11,
   "metadata": {},
   "outputs": [
    {
     "data": {
      "text/plain": [
       "LST_DATE_LST_TIME\n",
       "2018-05-27 00:00:00    21.6\n",
       "2018-05-27 00:05:00    21.5\n",
       "2018-05-27 00:10:00    21.4\n",
       "2018-05-27 00:15:00    21.5\n",
       "2018-05-27 00:20:00    21.5\n",
       "2018-05-27 00:25:00    21.5\n",
       "2018-05-27 00:30:00    21.5\n",
       "2018-05-27 00:35:00    21.4\n",
       "2018-05-27 00:40:00    21.5\n",
       "2018-05-27 00:45:00    21.6\n",
       "2018-05-27 00:50:00    21.6\n",
       "2018-05-27 00:55:00    21.6\n",
       "2018-05-27 01:00:00    21.6\n",
       "2018-05-27 01:05:00    21.6\n",
       "2018-05-27 01:10:00    21.7\n",
       "2018-05-27 01:15:00    21.7\n",
       "2018-05-27 01:20:00    21.6\n",
       "2018-05-27 01:25:00    21.6\n",
       "2018-05-27 01:30:00    21.6\n",
       "2018-05-27 01:35:00    21.5\n",
       "2018-05-27 01:40:00    21.5\n",
       "2018-05-27 01:45:00    21.4\n",
       "2018-05-27 01:50:00    21.4\n",
       "2018-05-27 01:55:00    21.4\n",
       "2018-05-27 02:00:00    21.3\n",
       "2018-05-27 02:05:00    21.3\n",
       "2018-05-27 02:10:00    21.4\n",
       "2018-05-27 02:15:00    21.3\n",
       "2018-05-27 02:20:00    21.3\n",
       "2018-05-27 02:25:00    21.2\n",
       "                       ... \n",
       "2018-06-02 21:30:00    20.9\n",
       "2018-06-02 21:35:00    21.0\n",
       "2018-06-02 21:40:00    20.9\n",
       "2018-06-02 21:45:00    20.8\n",
       "2018-06-02 21:50:00    20.8\n",
       "2018-06-02 21:55:00    20.6\n",
       "2018-06-02 22:00:00    20.6\n",
       "2018-06-02 22:05:00    20.6\n",
       "2018-06-02 22:10:00    20.8\n",
       "2018-06-02 22:15:00    20.6\n",
       "2018-06-02 22:20:00    20.5\n",
       "2018-06-02 22:25:00    20.4\n",
       "2018-06-02 22:30:00    20.3\n",
       "2018-06-02 22:35:00    20.5\n",
       "2018-06-02 22:40:00    20.7\n",
       "2018-06-02 22:45:00    20.7\n",
       "2018-06-02 22:50:00    20.8\n",
       "2018-06-02 22:55:00    20.7\n",
       "2018-06-02 23:00:00    20.8\n",
       "2018-06-02 23:05:00    20.9\n",
       "2018-06-02 23:10:00    20.9\n",
       "2018-06-02 23:15:00    21.0\n",
       "2018-06-02 23:20:00    21.1\n",
       "2018-06-02 23:25:00    21.0\n",
       "2018-06-02 23:30:00    20.8\n",
       "2018-06-02 23:35:00    20.7\n",
       "2018-06-02 23:40:00    20.8\n",
       "2018-06-02 23:45:00    20.9\n",
       "2018-06-02 23:50:00    20.9\n",
       "2018-06-02 23:55:00    20.9\n",
       "Name: AIR_TEMPERATURE, Length: 2016, dtype: float64"
      ]
     },
     "execution_count": 11,
     "metadata": {},
     "output_type": "execute_result"
    }
   ],
   "source": [
    "noaa_data[(noaa_data.index >= '2018-05-27') & (noaa_data.index < '2018-06-03')].loc[:,'AIR_TEMPERATURE']"
   ]
  },
  {
   "cell_type": "markdown",
   "metadata": {},
   "source": [
    "Just looking at the list of data, we're not seeing anything out of the ordinary. Let's mask the data for values less than absolute zero, when applied to air temperature, and use `np.unique()` to get the date(s) associated with that."
   ]
  },
  {
   "cell_type": "code",
   "execution_count": 12,
   "metadata": {},
   "outputs": [
    {
     "data": {
      "text/plain": [
       "array([datetime.date(2018, 4, 26), datetime.date(2018, 5, 29),\n",
       "       datetime.date(2018, 8, 5)], dtype=object)"
      ]
     },
     "execution_count": 12,
     "metadata": {},
     "output_type": "execute_result"
    }
   ],
   "source": [
    "np.unique(noaa_data[noaa_data['AIR_TEMPERATURE'] < -273.15]['AIR_TEMPERATURE'].index.date)"
   ]
  },
  {
   "cell_type": "markdown",
   "metadata": {},
   "source": [
    "Three days in 2018 had air temperatures lower than absolute zero. I think that would have made news. Let's look at a histogram to see what our distribution is for temperatures like that."
   ]
  },
  {
   "cell_type": "code",
   "execution_count": 13,
   "metadata": {
    "scrolled": false
   },
   "outputs": [
    {
     "data": {
      "text/plain": [
       "(array([ 48,   0,   0,   0,   0,   0,   0,   0,   0, 240]),\n",
       " array([-9999.  , -8996.41, -7993.82, -6991.23, -5988.64, -4986.05,\n",
       "        -3983.46, -2980.87, -1978.28,  -975.69,    26.9 ]))"
      ]
     },
     "execution_count": 13,
     "metadata": {},
     "output_type": "execute_result"
    }
   ],
   "source": [
    "np.histogram(noaa_data[(noaa_data.index >= '2018-05-29') & (noaa_data.index < '2018-05-30')].loc[:,'AIR_TEMPERATURE'])"
   ]
  },
  {
   "cell_type": "markdown",
   "metadata": {},
   "source": [
    "And while we're at it, let's transition to our favorite thing: indexers!"
   ]
  },
  {
   "cell_type": "code",
   "execution_count": 14,
   "metadata": {
    "scrolled": false
   },
   "outputs": [
    {
     "data": {
      "text/plain": [
       "(array([ 48,   0,   0,   0,   0,   0,   0,   0,   0, 240]),\n",
       " array([-9999.  , -8996.41, -7993.82, -6991.23, -5988.64, -4986.05,\n",
       "        -3983.46, -2980.87, -1978.28,  -975.69,    26.9 ]))"
      ]
     },
     "execution_count": 14,
     "metadata": {},
     "output_type": "execute_result"
    }
   ],
   "source": [
    "np.histogram(noaa_data.loc[\"2018-05-29\":\"2018-05-29\",\"AIR_TEMPERATURE\"])"
   ]
  },
  {
   "cell_type": "markdown",
   "metadata": {},
   "source": [
    "Looking at these bins, we can see a really weird distribution. Most of the data is in the rightmost bin, with temperatures being at or below 26.9 degrees celcius. But there are a lot of -9999 values. We know this to be incorrect data. In fact, this is indicated in the notes of our specification document:\n",
    "* C.  Missing data are indicated by the lowest possible integer for a given column format, such as -9999.0 for 7-character fields with one decimal place or -99.000 for 7-character fields with three decimal places.\n",
    "\n",
    "We don't always have specifications for errors, so it's good to have a couple of ways to look at where some outliers might make our data messy."
   ]
  },
  {
   "cell_type": "code",
   "execution_count": 16,
   "metadata": {},
   "outputs": [],
   "source": [
    "noaa_data['AIR_TEMPERATURE'].replace(-9999,np.nan,inplace=True)"
   ]
  },
  {
   "cell_type": "markdown",
   "metadata": {},
   "source": [
    "Here we'll replace the invalid data with `np.nan`. Even though `np.nan` is invalid data, it give some indication to functions that it should be omitted. Check out this function:"
   ]
  },
  {
   "cell_type": "code",
   "execution_count": 17,
   "metadata": {},
   "outputs": [],
   "source": [
    "# noaa_data.mean?"
   ]
  },
  {
   "cell_type": "markdown",
   "metadata": {},
   "source": [
    "By default, `.mean()` skips null/nan values. Look at how the following three examples work:"
   ]
  },
  {
   "cell_type": "code",
   "execution_count": null,
   "metadata": {},
   "outputs": [],
   "source": [
    "pd.Series([1,2,3]).mean()"
   ]
  },
  {
   "cell_type": "code",
   "execution_count": null,
   "metadata": {},
   "outputs": [],
   "source": [
    "pd.Series([1,2,3,np.nan]).mean()"
   ]
  },
  {
   "cell_type": "code",
   "execution_count": null,
   "metadata": {},
   "outputs": [],
   "source": [
    "pd.Series([1,2,3,np.nan]).mean(skipna=False)"
   ]
  },
  {
   "cell_type": "markdown",
   "metadata": {},
   "source": [
    "Now, let's reapply based upon our fixed data. In theory, the values should be more in accordance with our expectations. We're dropping `np.nan` from our calculated mean."
   ]
  },
  {
   "cell_type": "code",
   "execution_count": 18,
   "metadata": {},
   "outputs": [
    {
     "data": {
      "text/plain": [
       "LST_DATE_LST_TIME\n",
       "2017-12-31    -4.528814\n",
       "2018-01-07    -7.237847\n",
       "2018-01-14     6.990625\n",
       "2018-01-21     0.747569\n",
       "2018-01-28     8.395089\n",
       "2018-02-04     2.817708\n",
       "2018-02-11     8.598810\n",
       "2018-02-18    11.144494\n",
       "2018-02-25    16.084524\n",
       "2018-03-04     8.591121\n",
       "2018-03-11     4.532242\n",
       "2018-03-18     6.572669\n",
       "2018-03-25     5.911409\n",
       "2018-04-01    12.809970\n",
       "2018-04-08    12.107837\n",
       "2018-04-15    14.936558\n",
       "2018-04-22    12.446776\n",
       "2018-04-29    15.081687\n",
       "2018-05-06    19.035268\n",
       "2018-05-13    20.755060\n",
       "2018-05-20    22.814236\n",
       "2018-05-27    22.898760\n",
       "2018-06-03    23.660569\n",
       "2018-06-10    22.816915\n",
       "2018-06-17    23.292510\n",
       "2018-06-24    26.877282\n",
       "2018-07-01    24.928472\n",
       "2018-07-08    24.993353\n",
       "2018-07-15    24.147272\n",
       "2018-07-22    24.144544\n",
       "2018-07-29    24.514484\n",
       "2018-08-05    24.206799\n",
       "2018-08-12    26.266321\n",
       "Freq: W-SUN, Name: AIR_TEMPERATURE, dtype: float64"
      ]
     },
     "execution_count": 18,
     "metadata": {},
     "output_type": "execute_result"
    }
   ],
   "source": [
    "noaa_data.loc[:,'AIR_TEMPERATURE'].groupby(pd.Grouper(freq='W')).mean()"
   ]
  },
  {
   "cell_type": "markdown",
   "metadata": {},
   "source": [
    "But be careful, now that we have `np.nan` in our data, the histogram from above might be broken."
   ]
  },
  {
   "cell_type": "code",
   "execution_count": 19,
   "metadata": {},
   "outputs": [
    {
     "name": "stderr",
     "output_type": "stream",
     "text": [
      "/anaconda2/lib/python2.7/site-packages/numpy/core/_methods.py:29: RuntimeWarning: invalid value encountered in reduce\n",
      "  return umr_minimum(a, axis, None, out, keepdims)\n",
      "/anaconda2/lib/python2.7/site-packages/numpy/core/_methods.py:26: RuntimeWarning: invalid value encountered in reduce\n",
      "  return umr_maximum(a, axis, None, out, keepdims)\n"
     ]
    },
    {
     "ename": "ValueError",
     "evalue": "range parameter must be finite.",
     "output_type": "error",
     "traceback": [
      "\u001b[0;31m---------------------------------------------------------------------------\u001b[0m",
      "\u001b[0;31mValueError\u001b[0m                                Traceback (most recent call last)",
      "\u001b[0;32m<ipython-input-19-8cc756550464>\u001b[0m in \u001b[0;36m<module>\u001b[0;34m()\u001b[0m\n\u001b[0;32m----> 1\u001b[0;31m \u001b[0mnp\u001b[0m\u001b[0;34m.\u001b[0m\u001b[0mhistogram\u001b[0m\u001b[0;34m(\u001b[0m\u001b[0mnoaa_data\u001b[0m\u001b[0;34m.\u001b[0m\u001b[0mloc\u001b[0m\u001b[0;34m[\u001b[0m\u001b[0;34m\"2018-05-29\"\u001b[0m\u001b[0;34m:\u001b[0m\u001b[0;34m\"2018-05-29\"\u001b[0m\u001b[0;34m,\u001b[0m\u001b[0;34m\"AIR_TEMPERATURE\"\u001b[0m\u001b[0;34m]\u001b[0m\u001b[0;34m)\u001b[0m\u001b[0;34m\u001b[0m\u001b[0m\n\u001b[0m",
      "\u001b[0;32m/anaconda2/lib/python2.7/site-packages/numpy/lib/function_base.pyc\u001b[0m in \u001b[0;36mhistogram\u001b[0;34m(a, bins, range, normed, weights, density)\u001b[0m\n\u001b[1;32m    668\u001b[0m     \u001b[0;32mif\u001b[0m \u001b[0;32mnot\u001b[0m \u001b[0mnp\u001b[0m\u001b[0;34m.\u001b[0m\u001b[0mall\u001b[0m\u001b[0;34m(\u001b[0m\u001b[0mnp\u001b[0m\u001b[0;34m.\u001b[0m\u001b[0misfinite\u001b[0m\u001b[0;34m(\u001b[0m\u001b[0;34m[\u001b[0m\u001b[0mfirst_edge\u001b[0m\u001b[0;34m,\u001b[0m \u001b[0mlast_edge\u001b[0m\u001b[0;34m]\u001b[0m\u001b[0;34m)\u001b[0m\u001b[0;34m)\u001b[0m\u001b[0;34m:\u001b[0m\u001b[0;34m\u001b[0m\u001b[0m\n\u001b[1;32m    669\u001b[0m         raise ValueError(\n\u001b[0;32m--> 670\u001b[0;31m             'range parameter must be finite.')\n\u001b[0m\u001b[1;32m    671\u001b[0m     \u001b[0;32mif\u001b[0m \u001b[0mfirst_edge\u001b[0m \u001b[0;34m==\u001b[0m \u001b[0mlast_edge\u001b[0m\u001b[0;34m:\u001b[0m\u001b[0;34m\u001b[0m\u001b[0m\n\u001b[1;32m    672\u001b[0m         \u001b[0mfirst_edge\u001b[0m \u001b[0;34m-=\u001b[0m \u001b[0;36m0.5\u001b[0m\u001b[0;34m\u001b[0m\u001b[0m\n",
      "\u001b[0;31mValueError\u001b[0m: range parameter must be finite."
     ]
    }
   ],
   "source": [
    "np.histogram(noaa_data.loc[\"2018-05-29\":\"2018-05-29\",\"AIR_TEMPERATURE\"])"
   ]
  },
  {
   "cell_type": "markdown",
   "metadata": {},
   "source": [
    "Check your version of NumPy:"
   ]
  },
  {
   "cell_type": "code",
   "execution_count": 20,
   "metadata": {},
   "outputs": [
    {
     "data": {
      "text/plain": [
       "'1.14.3'"
      ]
     },
     "execution_count": 20,
     "metadata": {},
     "output_type": "execute_result"
    }
   ],
   "source": [
    "np.__version__"
   ]
  },
  {
   "cell_type": "markdown",
   "metadata": {},
   "source": [
    "In version 1.15, \"histogram will accept NaN values when explicit bins are given.\""
   ]
  },
  {
   "cell_type": "markdown",
   "metadata": {},
   "source": [
    "One benefit of using the datetime values as an index, is that we can groupby properties of those dates. Ever need to look at data grouped by hour of the day? What was the average temperature for each hour in the month of July?"
   ]
  },
  {
   "cell_type": "code",
   "execution_count": 28,
   "metadata": {
    "scrolled": false
   },
   "outputs": [
    {
     "data": {
      "text/plain": [
       "LST_DATE_LST_TIME\n",
       "0     21.434115\n",
       "1     21.044531\n",
       "2     20.735938\n",
       "3     20.448437\n",
       "4     20.299479\n",
       "5     20.227083\n",
       "6     21.211198\n",
       "7     22.832292\n",
       "8     24.351042\n",
       "9     25.720573\n",
       "10    26.765625\n",
       "11    27.762500\n",
       "12    28.766927\n",
       "13    29.477344\n",
       "14    29.496094\n",
       "15    29.222396\n",
       "16    29.065104\n",
       "17    28.552865\n",
       "18    26.458073\n",
       "19    24.436979\n",
       "20    23.342708\n",
       "21    22.694010\n",
       "22    22.391406\n",
       "23    21.930469\n",
       "Name: AIR_TEMPERATURE, dtype: float64"
      ]
     },
     "execution_count": 28,
     "metadata": {},
     "output_type": "execute_result"
    }
   ],
   "source": [
    "noaa_month = noaa_data.loc[\"2018-07-01\":\"2018-08-01\"]\n",
    "noaa_month.loc[:,'AIR_TEMPERATURE'].groupby(noaa_month.index.hour).mean()"
   ]
  },
  {
   "cell_type": "markdown",
   "metadata": {},
   "source": [
    "What is the hottest average day of the year (so far)? (0 = Monday)"
   ]
  },
  {
   "cell_type": "code",
   "execution_count": 53,
   "metadata": {},
   "outputs": [
    {
     "data": {
      "text/plain": [
       "LST_DATE_LST_TIME\n",
       "0    14.295812\n",
       "1    13.928773\n",
       "2    15.074754\n",
       "3    15.834376\n",
       "4    15.986246\n",
       "5    15.256877\n",
       "6    15.738237\n",
       "Name: AIR_TEMPERATURE, dtype: float64"
      ]
     },
     "execution_count": 53,
     "metadata": {},
     "output_type": "execute_result"
    }
   ],
   "source": [
    "noaa_data['AIR_TEMPERATURE'].groupby(noaa_data.index.dayofweek).mean()"
   ]
  },
  {
   "cell_type": "code",
   "execution_count": null,
   "metadata": {},
   "outputs": [],
   "source": []
  },
  {
   "cell_type": "code",
   "execution_count": null,
   "metadata": {},
   "outputs": [],
   "source": [
    "noaa_data.loc[:,'PRECIPITATION'].groupby(pd.Grouper(freq='W')).sum()"
   ]
  }
 ],
 "metadata": {
  "kernelspec": {
   "display_name": "Python 2",
   "language": "python",
   "name": "python2"
  },
  "language_info": {
   "codemirror_mode": {
    "name": "ipython",
    "version": 2
   },
   "file_extension": ".py",
   "mimetype": "text/x-python",
   "name": "python",
   "nbconvert_exporter": "python",
   "pygments_lexer": "ipython2",
   "version": "2.7.15"
  }
 },
 "nbformat": 4,
 "nbformat_minor": 2
}
