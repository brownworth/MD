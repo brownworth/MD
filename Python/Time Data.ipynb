{
 "cells": [
  {
   "cell_type": "markdown",
   "metadata": {},
   "source": [
    "## Time-based Data"
   ]
  },
  {
   "cell_type": "markdown",
   "metadata": {},
   "source": [
    "This lesson, we'll be working with some of the ways that Python/Pandas can manipulate data based upon a time index. But, like everything we've done, it doesn't always start out the way we want it."
   ]
  },
  {
   "cell_type": "code",
   "execution_count": 2,
   "metadata": {},
   "outputs": [],
   "source": [
    "import pandas as pd\n",
    "import numpy as np"
   ]
  },
  {
   "cell_type": "markdown",
   "metadata": {},
   "source": [
    "The next two links are the data, and a README file that describes the data format. To keep it somewhat close-to-home, the data contained in the first link is from Durham, NC."
   ]
  },
  {
   "cell_type": "markdown",
   "metadata": {},
   "source": [
    "https://www1.ncdc.noaa.gov/pub/data/uscrn/products/subhourly01/2018/CRNS0101-05-2018-NC_Durham_11_W.txt"
   ]
  },
  {
   "cell_type": "markdown",
   "metadata": {},
   "source": [
    "Clicking on that link, you'll see that there is a bunch of columns, but no headers. It's divided into fixed-width, but not with commas, or other single characters. Let's see what the pandas default does with this kind of text:"
   ]
  },
  {
   "cell_type": "code",
   "execution_count": 25,
   "metadata": {},
   "outputs": [
    {
     "data": {
      "text/html": [
       "<div>\n",
       "<style scoped>\n",
       "    .dataframe tbody tr th:only-of-type {\n",
       "        vertical-align: middle;\n",
       "    }\n",
       "\n",
       "    .dataframe tbody tr th {\n",
       "        vertical-align: top;\n",
       "    }\n",
       "\n",
       "    .dataframe thead th {\n",
       "        text-align: right;\n",
       "    }\n",
       "</style>\n",
       "<table border=\"1\" class=\"dataframe\">\n",
       "  <thead>\n",
       "    <tr style=\"text-align: right;\">\n",
       "      <th></th>\n",
       "      <th>03758 20180101 0005 20171231 1905      2  -79.09   35.97    -4.3     0.0      0 0    -3.8 C 0    22 0   0.265     4.4  1217 0   1.76 0</th>\n",
       "    </tr>\n",
       "  </thead>\n",
       "  <tbody>\n",
       "    <tr>\n",
       "      <th>0</th>\n",
       "      <td>03758 20180101 0010 20171231 1910      2  -79....</td>\n",
       "    </tr>\n",
       "    <tr>\n",
       "      <th>1</th>\n",
       "      <td>03758 20180101 0015 20171231 1915      2  -79....</td>\n",
       "    </tr>\n",
       "    <tr>\n",
       "      <th>2</th>\n",
       "      <td>03758 20180101 0020 20171231 1920      2  -79....</td>\n",
       "    </tr>\n",
       "    <tr>\n",
       "      <th>3</th>\n",
       "      <td>03758 20180101 0025 20171231 1925      2  -79....</td>\n",
       "    </tr>\n",
       "    <tr>\n",
       "      <th>4</th>\n",
       "      <td>03758 20180101 0030 20171231 1930      2  -79....</td>\n",
       "    </tr>\n",
       "  </tbody>\n",
       "</table>\n",
       "</div>"
      ],
      "text/plain": [
       "  03758 20180101 0005 20171231 1905      2  -79.09   35.97    -4.3     0.0      0 0    -3.8 C 0    22 0   0.265     4.4  1217 0   1.76 0\n",
       "0  03758 20180101 0010 20171231 1910      2  -79....                                                                                    \n",
       "1  03758 20180101 0015 20171231 1915      2  -79....                                                                                    \n",
       "2  03758 20180101 0020 20171231 1920      2  -79....                                                                                    \n",
       "3  03758 20180101 0025 20171231 1925      2  -79....                                                                                    \n",
       "4  03758 20180101 0030 20171231 1930      2  -79....                                                                                    "
      ]
     },
     "execution_count": 25,
     "metadata": {},
     "output_type": "execute_result"
    }
   ],
   "source": [
    "pd.read_csv(r'./CRNS0101-05-2018-NC_Durham_11_W.txt').head()"
   ]
  },
  {
   "cell_type": "markdown",
   "metadata": {},
   "source": [
    "That's not all that useful. Let's see what the README has to say about it."
   ]
  },
  {
   "cell_type": "markdown",
   "metadata": {},
   "source": [
    "https://www1.ncdc.noaa.gov/pub/data/uscrn/products/subhourly01/README.txt"
   ]
  },
  {
   "cell_type": "markdown",
   "metadata": {},
   "source": [
    "If you scroll down to section 5, you'll see a bit where it describes the "
   ]
  },
  {
   "cell_type": "code",
   "execution_count": 3,
   "metadata": {},
   "outputs": [],
   "source": [
    "headers = pd.read_csv(r'./weather_headers.csv',header=None,squeeze=True)"
   ]
  },
  {
   "cell_type": "code",
   "execution_count": 4,
   "metadata": {},
   "outputs": [
    {
     "data": {
      "text/plain": [
       "0                  WBANNO\n",
       "1                UTC_DATE\n",
       "2                UTC_TIME\n",
       "3                LST_DATE\n",
       "4                LST_TIME\n",
       "5                  CRX_VN\n",
       "6               LONGITUDE\n",
       "7                LATITUDE\n",
       "8         AIR_TEMPERATURE\n",
       "9           PRECIPITATION\n",
       "10        SOLAR_RADIATION\n",
       "11                SR_FLAG\n",
       "12    SURFACE_TEMPERATURE\n",
       "13                ST_TYPE\n",
       "14                ST_FLAG\n",
       "15      RELATIVE_HUMIDITY\n",
       "16                RH_FLAG\n",
       "17        SOIL_MOISTURE_5\n",
       "18     SOIL_TEMPERATURE_5\n",
       "19                WETNESS\n",
       "20               WET_FLAG\n",
       "21               WIND_1_5\n",
       "22              WIND_FLAG\n",
       "Name: 0, dtype: object"
      ]
     },
     "execution_count": 4,
     "metadata": {},
     "output_type": "execute_result"
    }
   ],
   "source": [
    "headers"
   ]
  },
  {
   "cell_type": "code",
   "execution_count": null,
   "metadata": {},
   "outputs": [],
   "source": [
    "# pd.read_csv?"
   ]
  },
  {
   "cell_type": "code",
   "execution_count": 5,
   "metadata": {},
   "outputs": [],
   "source": [
    "noaa_data = pd.read_csv(r'./CRNS0101-05-2018-NC_Durham_11_W.txt',delimiter='\\s+',header=None,names=headers.values,parse_dates=[['LST_DATE','LST_TIME']])"
   ]
  },
  {
   "cell_type": "code",
   "execution_count": 6,
   "metadata": {},
   "outputs": [
    {
     "data": {
      "text/html": [
       "<div>\n",
       "<style scoped>\n",
       "    .dataframe tbody tr th:only-of-type {\n",
       "        vertical-align: middle;\n",
       "    }\n",
       "\n",
       "    .dataframe tbody tr th {\n",
       "        vertical-align: top;\n",
       "    }\n",
       "\n",
       "    .dataframe thead th {\n",
       "        text-align: right;\n",
       "    }\n",
       "</style>\n",
       "<table border=\"1\" class=\"dataframe\">\n",
       "  <thead>\n",
       "    <tr style=\"text-align: right;\">\n",
       "      <th></th>\n",
       "      <th>LST_DATE_LST_TIME</th>\n",
       "      <th>WBANNO</th>\n",
       "      <th>UTC_DATE</th>\n",
       "      <th>UTC_TIME</th>\n",
       "      <th>CRX_VN</th>\n",
       "      <th>LONGITUDE</th>\n",
       "      <th>LATITUDE</th>\n",
       "      <th>AIR_TEMPERATURE</th>\n",
       "      <th>PRECIPITATION</th>\n",
       "      <th>SOLAR_RADIATION</th>\n",
       "      <th>...</th>\n",
       "      <th>ST_TYPE</th>\n",
       "      <th>ST_FLAG</th>\n",
       "      <th>RELATIVE_HUMIDITY</th>\n",
       "      <th>RH_FLAG</th>\n",
       "      <th>SOIL_MOISTURE_5</th>\n",
       "      <th>SOIL_TEMPERATURE_5</th>\n",
       "      <th>WETNESS</th>\n",
       "      <th>WET_FLAG</th>\n",
       "      <th>WIND_1_5</th>\n",
       "      <th>WIND_FLAG</th>\n",
       "    </tr>\n",
       "  </thead>\n",
       "  <tbody>\n",
       "    <tr>\n",
       "      <th>0</th>\n",
       "      <td>2017-12-31 19:05:00</td>\n",
       "      <td>3758</td>\n",
       "      <td>20180101</td>\n",
       "      <td>5</td>\n",
       "      <td>2</td>\n",
       "      <td>-79.09</td>\n",
       "      <td>35.97</td>\n",
       "      <td>-4.3</td>\n",
       "      <td>0.0</td>\n",
       "      <td>0</td>\n",
       "      <td>...</td>\n",
       "      <td>C</td>\n",
       "      <td>0</td>\n",
       "      <td>22</td>\n",
       "      <td>0</td>\n",
       "      <td>0.265</td>\n",
       "      <td>4.4</td>\n",
       "      <td>1217</td>\n",
       "      <td>0</td>\n",
       "      <td>1.76</td>\n",
       "      <td>0</td>\n",
       "    </tr>\n",
       "    <tr>\n",
       "      <th>1</th>\n",
       "      <td>2017-12-31 19:10:00</td>\n",
       "      <td>3758</td>\n",
       "      <td>20180101</td>\n",
       "      <td>10</td>\n",
       "      <td>2</td>\n",
       "      <td>-79.09</td>\n",
       "      <td>35.97</td>\n",
       "      <td>-4.3</td>\n",
       "      <td>0.0</td>\n",
       "      <td>0</td>\n",
       "      <td>...</td>\n",
       "      <td>C</td>\n",
       "      <td>0</td>\n",
       "      <td>22</td>\n",
       "      <td>0</td>\n",
       "      <td>0.265</td>\n",
       "      <td>4.4</td>\n",
       "      <td>1217</td>\n",
       "      <td>0</td>\n",
       "      <td>1.51</td>\n",
       "      <td>0</td>\n",
       "    </tr>\n",
       "    <tr>\n",
       "      <th>2</th>\n",
       "      <td>2017-12-31 19:15:00</td>\n",
       "      <td>3758</td>\n",
       "      <td>20180101</td>\n",
       "      <td>15</td>\n",
       "      <td>2</td>\n",
       "      <td>-79.09</td>\n",
       "      <td>35.97</td>\n",
       "      <td>-4.3</td>\n",
       "      <td>0.0</td>\n",
       "      <td>0</td>\n",
       "      <td>...</td>\n",
       "      <td>C</td>\n",
       "      <td>0</td>\n",
       "      <td>22</td>\n",
       "      <td>0</td>\n",
       "      <td>0.265</td>\n",
       "      <td>4.3</td>\n",
       "      <td>1211</td>\n",
       "      <td>0</td>\n",
       "      <td>1.56</td>\n",
       "      <td>0</td>\n",
       "    </tr>\n",
       "    <tr>\n",
       "      <th>3</th>\n",
       "      <td>2017-12-31 19:20:00</td>\n",
       "      <td>3758</td>\n",
       "      <td>20180101</td>\n",
       "      <td>20</td>\n",
       "      <td>2</td>\n",
       "      <td>-79.09</td>\n",
       "      <td>35.97</td>\n",
       "      <td>-4.3</td>\n",
       "      <td>0.0</td>\n",
       "      <td>0</td>\n",
       "      <td>...</td>\n",
       "      <td>C</td>\n",
       "      <td>0</td>\n",
       "      <td>22</td>\n",
       "      <td>0</td>\n",
       "      <td>0.265</td>\n",
       "      <td>4.3</td>\n",
       "      <td>1217</td>\n",
       "      <td>0</td>\n",
       "      <td>2.07</td>\n",
       "      <td>0</td>\n",
       "    </tr>\n",
       "    <tr>\n",
       "      <th>4</th>\n",
       "      <td>2017-12-31 19:25:00</td>\n",
       "      <td>3758</td>\n",
       "      <td>20180101</td>\n",
       "      <td>25</td>\n",
       "      <td>2</td>\n",
       "      <td>-79.09</td>\n",
       "      <td>35.97</td>\n",
       "      <td>-4.3</td>\n",
       "      <td>0.0</td>\n",
       "      <td>0</td>\n",
       "      <td>...</td>\n",
       "      <td>C</td>\n",
       "      <td>0</td>\n",
       "      <td>22</td>\n",
       "      <td>0</td>\n",
       "      <td>0.265</td>\n",
       "      <td>4.3</td>\n",
       "      <td>1217</td>\n",
       "      <td>0</td>\n",
       "      <td>1.86</td>\n",
       "      <td>0</td>\n",
       "    </tr>\n",
       "  </tbody>\n",
       "</table>\n",
       "<p>5 rows × 22 columns</p>\n",
       "</div>"
      ],
      "text/plain": [
       "    LST_DATE_LST_TIME  WBANNO  UTC_DATE  UTC_TIME  CRX_VN  LONGITUDE  \\\n",
       "0 2017-12-31 19:05:00    3758  20180101         5       2     -79.09   \n",
       "1 2017-12-31 19:10:00    3758  20180101        10       2     -79.09   \n",
       "2 2017-12-31 19:15:00    3758  20180101        15       2     -79.09   \n",
       "3 2017-12-31 19:20:00    3758  20180101        20       2     -79.09   \n",
       "4 2017-12-31 19:25:00    3758  20180101        25       2     -79.09   \n",
       "\n",
       "   LATITUDE  AIR_TEMPERATURE  PRECIPITATION  SOLAR_RADIATION    ...      \\\n",
       "0     35.97             -4.3            0.0                0    ...       \n",
       "1     35.97             -4.3            0.0                0    ...       \n",
       "2     35.97             -4.3            0.0                0    ...       \n",
       "3     35.97             -4.3            0.0                0    ...       \n",
       "4     35.97             -4.3            0.0                0    ...       \n",
       "\n",
       "   ST_TYPE  ST_FLAG RELATIVE_HUMIDITY  RH_FLAG  SOIL_MOISTURE_5  \\\n",
       "0        C        0                22        0            0.265   \n",
       "1        C        0                22        0            0.265   \n",
       "2        C        0                22        0            0.265   \n",
       "3        C        0                22        0            0.265   \n",
       "4        C        0                22        0            0.265   \n",
       "\n",
       "   SOIL_TEMPERATURE_5  WETNESS  WET_FLAG  WIND_1_5  WIND_FLAG  \n",
       "0                 4.4     1217         0      1.76          0  \n",
       "1                 4.4     1217         0      1.51          0  \n",
       "2                 4.3     1211         0      1.56          0  \n",
       "3                 4.3     1217         0      2.07          0  \n",
       "4                 4.3     1217         0      1.86          0  \n",
       "\n",
       "[5 rows x 22 columns]"
      ]
     },
     "execution_count": 6,
     "metadata": {},
     "output_type": "execute_result"
    }
   ],
   "source": [
    "noaa_data.head()"
   ]
  },
  {
   "cell_type": "code",
   "execution_count": 7,
   "metadata": {},
   "outputs": [],
   "source": [
    "noaa_data.set_index('LST_DATE_LST_TIME',inplace=True)"
   ]
  },
  {
   "cell_type": "code",
   "execution_count": 8,
   "metadata": {},
   "outputs": [
    {
     "data": {
      "text/html": [
       "<div>\n",
       "<style scoped>\n",
       "    .dataframe tbody tr th:only-of-type {\n",
       "        vertical-align: middle;\n",
       "    }\n",
       "\n",
       "    .dataframe tbody tr th {\n",
       "        vertical-align: top;\n",
       "    }\n",
       "\n",
       "    .dataframe thead th {\n",
       "        text-align: right;\n",
       "    }\n",
       "</style>\n",
       "<table border=\"1\" class=\"dataframe\">\n",
       "  <thead>\n",
       "    <tr style=\"text-align: right;\">\n",
       "      <th></th>\n",
       "      <th>WBANNO</th>\n",
       "      <th>UTC_DATE</th>\n",
       "      <th>UTC_TIME</th>\n",
       "      <th>CRX_VN</th>\n",
       "      <th>LONGITUDE</th>\n",
       "      <th>LATITUDE</th>\n",
       "      <th>AIR_TEMPERATURE</th>\n",
       "      <th>PRECIPITATION</th>\n",
       "      <th>SOLAR_RADIATION</th>\n",
       "      <th>SR_FLAG</th>\n",
       "      <th>...</th>\n",
       "      <th>ST_TYPE</th>\n",
       "      <th>ST_FLAG</th>\n",
       "      <th>RELATIVE_HUMIDITY</th>\n",
       "      <th>RH_FLAG</th>\n",
       "      <th>SOIL_MOISTURE_5</th>\n",
       "      <th>SOIL_TEMPERATURE_5</th>\n",
       "      <th>WETNESS</th>\n",
       "      <th>WET_FLAG</th>\n",
       "      <th>WIND_1_5</th>\n",
       "      <th>WIND_FLAG</th>\n",
       "    </tr>\n",
       "    <tr>\n",
       "      <th>LST_DATE_LST_TIME</th>\n",
       "      <th></th>\n",
       "      <th></th>\n",
       "      <th></th>\n",
       "      <th></th>\n",
       "      <th></th>\n",
       "      <th></th>\n",
       "      <th></th>\n",
       "      <th></th>\n",
       "      <th></th>\n",
       "      <th></th>\n",
       "      <th></th>\n",
       "      <th></th>\n",
       "      <th></th>\n",
       "      <th></th>\n",
       "      <th></th>\n",
       "      <th></th>\n",
       "      <th></th>\n",
       "      <th></th>\n",
       "      <th></th>\n",
       "      <th></th>\n",
       "      <th></th>\n",
       "    </tr>\n",
       "  </thead>\n",
       "  <tbody>\n",
       "    <tr>\n",
       "      <th>2017-12-31 19:05:00</th>\n",
       "      <td>3758</td>\n",
       "      <td>20180101</td>\n",
       "      <td>5</td>\n",
       "      <td>2</td>\n",
       "      <td>-79.09</td>\n",
       "      <td>35.97</td>\n",
       "      <td>-4.3</td>\n",
       "      <td>0.0</td>\n",
       "      <td>0</td>\n",
       "      <td>0</td>\n",
       "      <td>...</td>\n",
       "      <td>C</td>\n",
       "      <td>0</td>\n",
       "      <td>22</td>\n",
       "      <td>0</td>\n",
       "      <td>0.265</td>\n",
       "      <td>4.4</td>\n",
       "      <td>1217</td>\n",
       "      <td>0</td>\n",
       "      <td>1.76</td>\n",
       "      <td>0</td>\n",
       "    </tr>\n",
       "    <tr>\n",
       "      <th>2017-12-31 19:10:00</th>\n",
       "      <td>3758</td>\n",
       "      <td>20180101</td>\n",
       "      <td>10</td>\n",
       "      <td>2</td>\n",
       "      <td>-79.09</td>\n",
       "      <td>35.97</td>\n",
       "      <td>-4.3</td>\n",
       "      <td>0.0</td>\n",
       "      <td>0</td>\n",
       "      <td>0</td>\n",
       "      <td>...</td>\n",
       "      <td>C</td>\n",
       "      <td>0</td>\n",
       "      <td>22</td>\n",
       "      <td>0</td>\n",
       "      <td>0.265</td>\n",
       "      <td>4.4</td>\n",
       "      <td>1217</td>\n",
       "      <td>0</td>\n",
       "      <td>1.51</td>\n",
       "      <td>0</td>\n",
       "    </tr>\n",
       "    <tr>\n",
       "      <th>2017-12-31 19:15:00</th>\n",
       "      <td>3758</td>\n",
       "      <td>20180101</td>\n",
       "      <td>15</td>\n",
       "      <td>2</td>\n",
       "      <td>-79.09</td>\n",
       "      <td>35.97</td>\n",
       "      <td>-4.3</td>\n",
       "      <td>0.0</td>\n",
       "      <td>0</td>\n",
       "      <td>0</td>\n",
       "      <td>...</td>\n",
       "      <td>C</td>\n",
       "      <td>0</td>\n",
       "      <td>22</td>\n",
       "      <td>0</td>\n",
       "      <td>0.265</td>\n",
       "      <td>4.3</td>\n",
       "      <td>1211</td>\n",
       "      <td>0</td>\n",
       "      <td>1.56</td>\n",
       "      <td>0</td>\n",
       "    </tr>\n",
       "    <tr>\n",
       "      <th>2017-12-31 19:20:00</th>\n",
       "      <td>3758</td>\n",
       "      <td>20180101</td>\n",
       "      <td>20</td>\n",
       "      <td>2</td>\n",
       "      <td>-79.09</td>\n",
       "      <td>35.97</td>\n",
       "      <td>-4.3</td>\n",
       "      <td>0.0</td>\n",
       "      <td>0</td>\n",
       "      <td>0</td>\n",
       "      <td>...</td>\n",
       "      <td>C</td>\n",
       "      <td>0</td>\n",
       "      <td>22</td>\n",
       "      <td>0</td>\n",
       "      <td>0.265</td>\n",
       "      <td>4.3</td>\n",
       "      <td>1217</td>\n",
       "      <td>0</td>\n",
       "      <td>2.07</td>\n",
       "      <td>0</td>\n",
       "    </tr>\n",
       "    <tr>\n",
       "      <th>2017-12-31 19:25:00</th>\n",
       "      <td>3758</td>\n",
       "      <td>20180101</td>\n",
       "      <td>25</td>\n",
       "      <td>2</td>\n",
       "      <td>-79.09</td>\n",
       "      <td>35.97</td>\n",
       "      <td>-4.3</td>\n",
       "      <td>0.0</td>\n",
       "      <td>0</td>\n",
       "      <td>0</td>\n",
       "      <td>...</td>\n",
       "      <td>C</td>\n",
       "      <td>0</td>\n",
       "      <td>22</td>\n",
       "      <td>0</td>\n",
       "      <td>0.265</td>\n",
       "      <td>4.3</td>\n",
       "      <td>1217</td>\n",
       "      <td>0</td>\n",
       "      <td>1.86</td>\n",
       "      <td>0</td>\n",
       "    </tr>\n",
       "  </tbody>\n",
       "</table>\n",
       "<p>5 rows × 21 columns</p>\n",
       "</div>"
      ],
      "text/plain": [
       "                     WBANNO  UTC_DATE  UTC_TIME  CRX_VN  LONGITUDE  LATITUDE  \\\n",
       "LST_DATE_LST_TIME                                                              \n",
       "2017-12-31 19:05:00    3758  20180101         5       2     -79.09     35.97   \n",
       "2017-12-31 19:10:00    3758  20180101        10       2     -79.09     35.97   \n",
       "2017-12-31 19:15:00    3758  20180101        15       2     -79.09     35.97   \n",
       "2017-12-31 19:20:00    3758  20180101        20       2     -79.09     35.97   \n",
       "2017-12-31 19:25:00    3758  20180101        25       2     -79.09     35.97   \n",
       "\n",
       "                     AIR_TEMPERATURE  PRECIPITATION  SOLAR_RADIATION  SR_FLAG  \\\n",
       "LST_DATE_LST_TIME                                                               \n",
       "2017-12-31 19:05:00             -4.3            0.0                0        0   \n",
       "2017-12-31 19:10:00             -4.3            0.0                0        0   \n",
       "2017-12-31 19:15:00             -4.3            0.0                0        0   \n",
       "2017-12-31 19:20:00             -4.3            0.0                0        0   \n",
       "2017-12-31 19:25:00             -4.3            0.0                0        0   \n",
       "\n",
       "                       ...      ST_TYPE ST_FLAG  RELATIVE_HUMIDITY  RH_FLAG  \\\n",
       "LST_DATE_LST_TIME      ...                                                    \n",
       "2017-12-31 19:05:00    ...            C       0                 22        0   \n",
       "2017-12-31 19:10:00    ...            C       0                 22        0   \n",
       "2017-12-31 19:15:00    ...            C       0                 22        0   \n",
       "2017-12-31 19:20:00    ...            C       0                 22        0   \n",
       "2017-12-31 19:25:00    ...            C       0                 22        0   \n",
       "\n",
       "                     SOIL_MOISTURE_5  SOIL_TEMPERATURE_5  WETNESS  WET_FLAG  \\\n",
       "LST_DATE_LST_TIME                                                             \n",
       "2017-12-31 19:05:00            0.265                 4.4     1217         0   \n",
       "2017-12-31 19:10:00            0.265                 4.4     1217         0   \n",
       "2017-12-31 19:15:00            0.265                 4.3     1211         0   \n",
       "2017-12-31 19:20:00            0.265                 4.3     1217         0   \n",
       "2017-12-31 19:25:00            0.265                 4.3     1217         0   \n",
       "\n",
       "                     WIND_1_5  WIND_FLAG  \n",
       "LST_DATE_LST_TIME                         \n",
       "2017-12-31 19:05:00      1.76          0  \n",
       "2017-12-31 19:10:00      1.51          0  \n",
       "2017-12-31 19:15:00      1.56          0  \n",
       "2017-12-31 19:20:00      2.07          0  \n",
       "2017-12-31 19:25:00      1.86          0  \n",
       "\n",
       "[5 rows x 21 columns]"
      ]
     },
     "execution_count": 8,
     "metadata": {},
     "output_type": "execute_result"
    }
   ],
   "source": [
    "noaa_data.head()"
   ]
  },
  {
   "cell_type": "code",
   "execution_count": 9,
   "metadata": {},
   "outputs": [
    {
     "data": {
      "text/plain": [
       "LST_DATE_LST_TIME\n",
       "2017-12-31     -4.528814\n",
       "2018-01-07     -7.237847\n",
       "2018-01-14      6.990625\n",
       "2018-01-21      0.747569\n",
       "2018-01-28      8.395089\n",
       "2018-02-04      2.817708\n",
       "2018-02-11      8.598810\n",
       "2018-02-18     11.144494\n",
       "2018-02-25     16.084524\n",
       "2018-03-04      8.591121\n",
       "2018-03-11      4.532242\n",
       "2018-03-18      6.572669\n",
       "2018-03-25      5.911409\n",
       "2018-04-01     12.809970\n",
       "2018-04-08     12.107837\n",
       "2018-04-15     14.936558\n",
       "2018-04-22     12.446776\n",
       "2018-04-29    -44.525942\n",
       "2018-05-06     19.035268\n",
       "2018-05-13     20.755060\n",
       "2018-05-20     22.814236\n",
       "2018-05-27     22.898760\n",
       "2018-06-03   -214.974206\n",
       "2018-06-10     22.816915\n",
       "2018-06-17     23.292510\n",
       "2018-06-24     26.877282\n",
       "2018-07-01     24.928472\n",
       "2018-07-08     24.993353\n",
       "2018-07-15     24.147272\n",
       "2018-07-22     24.144544\n",
       "2018-07-29     24.514484\n",
       "2018-08-05     19.234970\n",
       "2018-08-12     26.266321\n",
       "Freq: W-SUN, Name: AIR_TEMPERATURE, dtype: float64"
      ]
     },
     "execution_count": 9,
     "metadata": {},
     "output_type": "execute_result"
    }
   ],
   "source": [
    "noaa_data.loc[:,'AIR_TEMPERATURE'].groupby(pd.Grouper(freq='W')).mean()"
   ]
  },
  {
   "cell_type": "code",
   "execution_count": 10,
   "metadata": {},
   "outputs": [
    {
     "data": {
      "text/plain": [
       "LST_DATE_LST_TIME\n",
       "2018-05-27 00:00:00    21.6\n",
       "2018-05-27 00:05:00    21.5\n",
       "2018-05-27 00:10:00    21.4\n",
       "2018-05-27 00:15:00    21.5\n",
       "2018-05-27 00:20:00    21.5\n",
       "2018-05-27 00:25:00    21.5\n",
       "2018-05-27 00:30:00    21.5\n",
       "2018-05-27 00:35:00    21.4\n",
       "2018-05-27 00:40:00    21.5\n",
       "2018-05-27 00:45:00    21.6\n",
       "2018-05-27 00:50:00    21.6\n",
       "2018-05-27 00:55:00    21.6\n",
       "2018-05-27 01:00:00    21.6\n",
       "2018-05-27 01:05:00    21.6\n",
       "2018-05-27 01:10:00    21.7\n",
       "2018-05-27 01:15:00    21.7\n",
       "2018-05-27 01:20:00    21.6\n",
       "2018-05-27 01:25:00    21.6\n",
       "2018-05-27 01:30:00    21.6\n",
       "2018-05-27 01:35:00    21.5\n",
       "2018-05-27 01:40:00    21.5\n",
       "2018-05-27 01:45:00    21.4\n",
       "2018-05-27 01:50:00    21.4\n",
       "2018-05-27 01:55:00    21.4\n",
       "2018-05-27 02:00:00    21.3\n",
       "2018-05-27 02:05:00    21.3\n",
       "2018-05-27 02:10:00    21.4\n",
       "2018-05-27 02:15:00    21.3\n",
       "2018-05-27 02:20:00    21.3\n",
       "2018-05-27 02:25:00    21.2\n",
       "                       ... \n",
       "2018-06-02 21:30:00    20.9\n",
       "2018-06-02 21:35:00    21.0\n",
       "2018-06-02 21:40:00    20.9\n",
       "2018-06-02 21:45:00    20.8\n",
       "2018-06-02 21:50:00    20.8\n",
       "2018-06-02 21:55:00    20.6\n",
       "2018-06-02 22:00:00    20.6\n",
       "2018-06-02 22:05:00    20.6\n",
       "2018-06-02 22:10:00    20.8\n",
       "2018-06-02 22:15:00    20.6\n",
       "2018-06-02 22:20:00    20.5\n",
       "2018-06-02 22:25:00    20.4\n",
       "2018-06-02 22:30:00    20.3\n",
       "2018-06-02 22:35:00    20.5\n",
       "2018-06-02 22:40:00    20.7\n",
       "2018-06-02 22:45:00    20.7\n",
       "2018-06-02 22:50:00    20.8\n",
       "2018-06-02 22:55:00    20.7\n",
       "2018-06-02 23:00:00    20.8\n",
       "2018-06-02 23:05:00    20.9\n",
       "2018-06-02 23:10:00    20.9\n",
       "2018-06-02 23:15:00    21.0\n",
       "2018-06-02 23:20:00    21.1\n",
       "2018-06-02 23:25:00    21.0\n",
       "2018-06-02 23:30:00    20.8\n",
       "2018-06-02 23:35:00    20.7\n",
       "2018-06-02 23:40:00    20.8\n",
       "2018-06-02 23:45:00    20.9\n",
       "2018-06-02 23:50:00    20.9\n",
       "2018-06-02 23:55:00    20.9\n",
       "Name: AIR_TEMPERATURE, Length: 2016, dtype: float64"
      ]
     },
     "execution_count": 10,
     "metadata": {},
     "output_type": "execute_result"
    }
   ],
   "source": [
    "noaa_data[(noaa_data.index >= '2018-05-27') & (noaa_data.index < '2018-06-03')].loc[:,'AIR_TEMPERATURE']"
   ]
  },
  {
   "cell_type": "code",
   "execution_count": 11,
   "metadata": {},
   "outputs": [
    {
     "data": {
      "text/plain": [
       "array([datetime.date(2018, 4, 26), datetime.date(2018, 5, 29),\n",
       "       datetime.date(2018, 8, 5)], dtype=object)"
      ]
     },
     "execution_count": 11,
     "metadata": {},
     "output_type": "execute_result"
    }
   ],
   "source": [
    "np.unique(noaa_data[noaa_data['AIR_TEMPERATURE'] < -273.15]['AIR_TEMPERATURE'].index.date)"
   ]
  },
  {
   "cell_type": "code",
   "execution_count": null,
   "metadata": {},
   "outputs": [],
   "source": [
    "noaa_data[noaa_data['AIR_TEMPERATURE']"
   ]
  },
  {
   "cell_type": "code",
   "execution_count": 13,
   "metadata": {},
   "outputs": [],
   "source": [
    "noaa_data.replace(-9999,np.nan,inplace=True)"
   ]
  },
  {
   "cell_type": "code",
   "execution_count": 14,
   "metadata": {},
   "outputs": [],
   "source": [
    "noaa_data.mean?"
   ]
  },
  {
   "cell_type": "code",
   "execution_count": 15,
   "metadata": {},
   "outputs": [
    {
     "data": {
      "text/plain": [
       "2.0"
      ]
     },
     "execution_count": 15,
     "metadata": {},
     "output_type": "execute_result"
    }
   ],
   "source": [
    "pd.Series([1,2,3]).mean()"
   ]
  },
  {
   "cell_type": "code",
   "execution_count": 16,
   "metadata": {},
   "outputs": [
    {
     "data": {
      "text/plain": [
       "2.0"
      ]
     },
     "execution_count": 16,
     "metadata": {},
     "output_type": "execute_result"
    }
   ],
   "source": [
    "pd.Series([1,2,3,np.nan]).mean()"
   ]
  },
  {
   "cell_type": "code",
   "execution_count": 24,
   "metadata": {},
   "outputs": [
    {
     "data": {
      "text/plain": [
       "nan"
      ]
     },
     "execution_count": 24,
     "metadata": {},
     "output_type": "execute_result"
    }
   ],
   "source": [
    "pd.Series([1,2,3,np.nan]).mean(skipna=False)"
   ]
  },
  {
   "cell_type": "code",
   "execution_count": 19,
   "metadata": {},
   "outputs": [
    {
     "data": {
      "text/plain": [
       "LST_DATE_LST_TIME\n",
       "2017-12-31    -4.528814\n",
       "2018-01-07    -7.237847\n",
       "2018-01-14     6.990625\n",
       "2018-01-21     0.747569\n",
       "2018-01-28     8.395089\n",
       "2018-02-04     2.817708\n",
       "2018-02-11     8.598810\n",
       "2018-02-18    11.144494\n",
       "2018-02-25    16.084524\n",
       "2018-03-04     8.591121\n",
       "2018-03-11     4.532242\n",
       "2018-03-18     6.572669\n",
       "2018-03-25     5.911409\n",
       "2018-04-01    12.809970\n",
       "2018-04-08    12.107837\n",
       "2018-04-15    14.936558\n",
       "2018-04-22    12.446776\n",
       "2018-04-29    15.081687\n",
       "2018-05-06    19.035268\n",
       "2018-05-13    20.755060\n",
       "2018-05-20    22.814236\n",
       "2018-05-27    22.898760\n",
       "2018-06-03    23.660569\n",
       "2018-06-10    22.816915\n",
       "2018-06-17    23.292510\n",
       "2018-06-24    26.877282\n",
       "2018-07-01    24.928472\n",
       "2018-07-08    24.993353\n",
       "2018-07-15    24.147272\n",
       "2018-07-22    24.144544\n",
       "2018-07-29    24.514484\n",
       "2018-08-05    24.206799\n",
       "2018-08-12    26.266321\n",
       "Freq: W-SUN, Name: AIR_TEMPERATURE, dtype: float64"
      ]
     },
     "execution_count": 19,
     "metadata": {},
     "output_type": "execute_result"
    }
   ],
   "source": [
    "noaa_data.loc[:,'AIR_TEMPERATURE'].groupby(pd.Grouper(freq='W')).mean()"
   ]
  },
  {
   "cell_type": "code",
   "execution_count": 22,
   "metadata": {
    "scrolled": true
   },
   "outputs": [
    {
     "data": {
      "text/plain": [
       "LST_DATE_LST_TIME\n",
       "0     12.528899\n",
       "1     12.109060\n",
       "2     11.750956\n",
       "3     11.448853\n",
       "4     11.220757\n",
       "5     11.050573\n",
       "6     11.482722\n",
       "7     12.618702\n",
       "8     14.181797\n",
       "9     15.808794\n",
       "10    17.145315\n",
       "11    18.265392\n",
       "12    19.172476\n",
       "13    19.780650\n",
       "14    19.933677\n",
       "15    19.973280\n",
       "16    19.603800\n",
       "17    18.786943\n",
       "18    17.138287\n",
       "19    15.429904\n",
       "20    14.372095\n",
       "21    13.772859\n",
       "22    13.339717\n",
       "23    12.936506\n",
       "Name: AIR_TEMPERATURE, dtype: float64"
      ]
     },
     "execution_count": 22,
     "metadata": {},
     "output_type": "execute_result"
    }
   ],
   "source": [
    "noaa_data['AIR_TEMPERATURE'].groupby(noaa_data.index.hour).mean()"
   ]
  },
  {
   "cell_type": "code",
   "execution_count": 23,
   "metadata": {},
   "outputs": [
    {
     "data": {
      "text/plain": [
       "LST_DATE_LST_TIME\n",
       "2017-12-31     0.0\n",
       "2018-01-07     3.3\n",
       "2018-01-14    23.5\n",
       "2018-01-21     9.3\n",
       "2018-01-28    59.7\n",
       "2018-02-04    37.5\n",
       "2018-02-11    13.3\n",
       "2018-02-18     3.5\n",
       "2018-02-25     6.1\n",
       "2018-03-04    21.6\n",
       "2018-03-11    20.4\n",
       "2018-03-18    18.6\n",
       "2018-03-25    53.9\n",
       "2018-04-01     0.6\n",
       "2018-04-08    28.3\n",
       "2018-04-15    57.4\n",
       "2018-04-22    11.1\n",
       "2018-04-29    42.3\n",
       "2018-05-06     0.0\n",
       "2018-05-13     0.2\n",
       "2018-05-20    68.2\n",
       "2018-05-27     8.6\n",
       "2018-06-03    27.6\n",
       "2018-06-10    26.9\n",
       "2018-06-17     3.2\n",
       "2018-06-24     0.0\n",
       "2018-07-01    70.8\n",
       "2018-07-08    16.4\n",
       "2018-07-15     0.0\n",
       "2018-07-22    60.5\n",
       "2018-07-29    23.5\n",
       "2018-08-05    59.8\n",
       "2018-08-12     0.0\n",
       "Freq: W-SUN, Name: PRECIPITATION, dtype: float64"
      ]
     },
     "execution_count": 23,
     "metadata": {},
     "output_type": "execute_result"
    }
   ],
   "source": [
    "noaa_data.loc[:,'PRECIPITATION'].groupby(pd.Grouper(freq='W')).sum()"
   ]
  }
 ],
 "metadata": {
  "kernelspec": {
   "display_name": "Python 2",
   "language": "python",
   "name": "python2"
  },
  "language_info": {
   "codemirror_mode": {
    "name": "ipython",
    "version": 2
   },
   "file_extension": ".py",
   "mimetype": "text/x-python",
   "name": "python",
   "nbconvert_exporter": "python",
   "pygments_lexer": "ipython2",
   "version": "2.7.15"
  }
 },
 "nbformat": 4,
 "nbformat_minor": 2
}
