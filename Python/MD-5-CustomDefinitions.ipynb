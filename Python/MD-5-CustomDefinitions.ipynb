{
 "cells": [
  {
   "cell_type": "code",
   "execution_count": null,
   "metadata": {
    "collapsed": true
   },
   "outputs": [],
   "source": [
    "import pandas as pd\n",
    "import numpy as np"
   ]
  },
  {
   "cell_type": "markdown",
   "metadata": {},
   "source": [
    "Here we are going to use a combination of Pandas DataFrame functionality and a NumPy method to quickly create a 6x6 DataFrame populated with the numbers 0 - 35, with specified column heads. If you're looking to practice with DataFrames, the `np.arange().reshape()` methods are an easy way to create one quickly."
   ]
  },
  {
   "cell_type": "code",
   "execution_count": null,
   "metadata": {
    "collapsed": true
   },
   "outputs": [],
   "source": [
    "test_data = pd.DataFrame(np.arange(36).reshape(6,6),columns=('alpha','bravo','charlie','delta','echo','foxtrot'))"
   ]
  },
  {
   "cell_type": "code",
   "execution_count": null,
   "metadata": {},
   "outputs": [],
   "source": [
    "test_data"
   ]
  },
  {
   "cell_type": "markdown",
   "metadata": {},
   "source": [
    "Here we are defining a function with a single argument. In this case, it takes a single value `cellNum` and applies the inner workings of the function to it. We're also using an `else:` statement to determine an action when our initial `if:` proves to be false. _Remember your indentation!_"
   ]
  },
  {
   "cell_type": "code",
   "execution_count": null,
   "metadata": {
    "collapsed": true
   },
   "outputs": [],
   "source": [
    "def num_mod(cellNum):\n",
    "    if cellNum % 2 == 0:\n",
    "        return cellNum, \"is even\"\n",
    "    else:\n",
    "        return cellNum, \"is odd\""
   ]
  },
  {
   "cell_type": "markdown",
   "metadata": {},
   "source": [
    "Remember `.apply()` with `pd.to_datetime` earlier? The `.applymap()` method is a way to _apply_ a function to elements individually. We can index out specific cells and then apply a function. It can even be one we defined ourselves."
   ]
  },
  {
   "cell_type": "code",
   "execution_count": null,
   "metadata": {},
   "outputs": [],
   "source": [
    "test_data.iloc[0:2,0:3].applymap(num_mod)"
   ]
  },
  {
   "cell_type": "markdown",
   "metadata": {},
   "source": [
    "Where `.applymap()` can apply to individual cells, `.apply()` works with rows, columns, or the entire DataFrame. For this function, we are adding specifically named columns within the DataFrame. We are passing a row as an argument, and the function knows to work with certain columns and ignore the rest."
   ]
  },
  {
   "cell_type": "code",
   "execution_count": null,
   "metadata": {
    "collapsed": true
   },
   "outputs": [],
   "source": [
    "def row_add(row):\n",
    "    return row.loc['bravo'] + row.loc['delta'] + row.loc['foxtrot']"
   ]
  },
  {
   "cell_type": "code",
   "execution_count": null,
   "metadata": {},
   "outputs": [],
   "source": [
    "test_data.apply(row_add,axis=1)"
   ]
  }
 ],
 "metadata": {
  "anaconda-cloud": {},
  "kernelspec": {
   "display_name": "Python 2",
   "language": "python",
   "name": "python2"
  },
  "language_info": {
   "codemirror_mode": {
    "name": "ipython",
    "version": 2
   },
   "file_extension": ".py",
   "mimetype": "text/x-python",
   "name": "python",
   "nbconvert_exporter": "python",
   "pygments_lexer": "ipython2",
   "version": "2.7.15"
  }
 },
 "nbformat": 4,
 "nbformat_minor": 1
}
