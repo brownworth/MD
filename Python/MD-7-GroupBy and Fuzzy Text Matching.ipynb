{
 "cells": [
  {
   "cell_type": "code",
   "execution_count": null,
   "metadata": {},
   "outputs": [],
   "source": [
    "from fuzzywuzzy import fuzz\n",
    "from fuzzywuzzy import process"
   ]
  },
  {
   "cell_type": "code",
   "execution_count": null,
   "metadata": {},
   "outputs": [],
   "source": [
    "fruit = [\"Apple\",\"Banana\",\"Orange\",\"Strawberry\"]"
   ]
  },
  {
   "cell_type": "code",
   "execution_count": null,
   "metadata": {},
   "outputs": [],
   "source": [
    "process.extract(\"apple\",fruit)"
   ]
  },
  {
   "cell_type": "code",
   "execution_count": null,
   "metadata": {},
   "outputs": [],
   "source": [
    "process.extract(\"snapple\",fruit)"
   ]
  },
  {
   "cell_type": "code",
   "execution_count": null,
   "metadata": {},
   "outputs": [],
   "source": [
    "process.extractOne(\"carrot\",fruit)"
   ]
  },
  {
   "cell_type": "code",
   "execution_count": null,
   "metadata": {},
   "outputs": [],
   "source": [
    "process.dedupe?"
   ]
  },
  {
   "cell_type": "code",
   "execution_count": null,
   "metadata": {
    "scrolled": true
   },
   "outputs": [],
   "source": [
    "process.default_processor(\"This is a LONG string. IT has some Random *(masf98hps9dn) in it\")"
   ]
  },
  {
   "cell_type": "code",
   "execution_count": 2,
   "metadata": {},
   "outputs": [],
   "source": [
    "import pandas as pd\n",
    "import numpy as np"
   ]
  },
  {
   "cell_type": "code",
   "execution_count": 3,
   "metadata": {},
   "outputs": [],
   "source": [
    "data = pd.read_csv(r'./Admissions_to_DMHAS_Addiction_Treatment_by_Town__Year__Month__and_Primary_Drug.csv')"
   ]
  },
  {
   "cell_type": "code",
   "execution_count": 5,
   "metadata": {},
   "outputs": [
    {
     "data": {
      "text/html": [
       "<div>\n",
       "<style scoped>\n",
       "    .dataframe tbody tr th:only-of-type {\n",
       "        vertical-align: middle;\n",
       "    }\n",
       "\n",
       "    .dataframe tbody tr th {\n",
       "        vertical-align: top;\n",
       "    }\n",
       "\n",
       "    .dataframe thead th {\n",
       "        text-align: right;\n",
       "    }\n",
       "</style>\n",
       "<table border=\"1\" class=\"dataframe\">\n",
       "  <thead>\n",
       "    <tr style=\"text-align: right;\">\n",
       "      <th></th>\n",
       "      <th>FiscalYear</th>\n",
       "      <th>MonthYear</th>\n",
       "      <th>Town</th>\n",
       "      <th>AdmMonth</th>\n",
       "      <th>FYMonthOrder</th>\n",
       "      <th>AdmYear</th>\n",
       "      <th>PrimaryDrug</th>\n",
       "      <th>AdmCount</th>\n",
       "    </tr>\n",
       "  </thead>\n",
       "  <tbody>\n",
       "    <tr>\n",
       "      <th>0</th>\n",
       "      <td>2014</td>\n",
       "      <td>Jan-14</td>\n",
       "      <td>Ansonia</td>\n",
       "      <td>1</td>\n",
       "      <td>7</td>\n",
       "      <td>2014</td>\n",
       "      <td>Alcohol</td>\n",
       "      <td>14.0</td>\n",
       "    </tr>\n",
       "    <tr>\n",
       "      <th>1</th>\n",
       "      <td>2014</td>\n",
       "      <td>Jan-14</td>\n",
       "      <td>Ansonia</td>\n",
       "      <td>1</td>\n",
       "      <td>7</td>\n",
       "      <td>2014</td>\n",
       "      <td>Crack</td>\n",
       "      <td>NaN</td>\n",
       "    </tr>\n",
       "    <tr>\n",
       "      <th>2</th>\n",
       "      <td>2014</td>\n",
       "      <td>Jan-14</td>\n",
       "      <td>Ansonia</td>\n",
       "      <td>1</td>\n",
       "      <td>7</td>\n",
       "      <td>2014</td>\n",
       "      <td>Heroin</td>\n",
       "      <td>8.0</td>\n",
       "    </tr>\n",
       "    <tr>\n",
       "      <th>3</th>\n",
       "      <td>2014</td>\n",
       "      <td>Jan-14</td>\n",
       "      <td>Ansonia</td>\n",
       "      <td>1</td>\n",
       "      <td>7</td>\n",
       "      <td>2014</td>\n",
       "      <td>Marijuana, Hashish, THC</td>\n",
       "      <td>NaN</td>\n",
       "    </tr>\n",
       "    <tr>\n",
       "      <th>4</th>\n",
       "      <td>2014</td>\n",
       "      <td>Jan-14</td>\n",
       "      <td>Ansonia</td>\n",
       "      <td>1</td>\n",
       "      <td>7</td>\n",
       "      <td>2014</td>\n",
       "      <td>Other Opiates and Synthetics</td>\n",
       "      <td>NaN</td>\n",
       "    </tr>\n",
       "  </tbody>\n",
       "</table>\n",
       "</div>"
      ],
      "text/plain": [
       "   FiscalYear MonthYear     Town  AdmMonth  FYMonthOrder  AdmYear  \\\n",
       "0        2014    Jan-14  Ansonia         1             7     2014   \n",
       "1        2014    Jan-14  Ansonia         1             7     2014   \n",
       "2        2014    Jan-14  Ansonia         1             7     2014   \n",
       "3        2014    Jan-14  Ansonia         1             7     2014   \n",
       "4        2014    Jan-14  Ansonia         1             7     2014   \n",
       "\n",
       "                    PrimaryDrug  AdmCount  \n",
       "0                       Alcohol      14.0  \n",
       "1                         Crack       NaN  \n",
       "2                        Heroin       8.0  \n",
       "3       Marijuana, Hashish, THC       NaN  \n",
       "4  Other Opiates and Synthetics       NaN  "
      ]
     },
     "execution_count": 5,
     "metadata": {},
     "output_type": "execute_result"
    }
   ],
   "source": [
    "data.head()"
   ]
  },
  {
   "cell_type": "code",
   "execution_count": 7,
   "metadata": {},
   "outputs": [
    {
     "data": {
      "text/plain": [
       "array(['Alcohol', 'Amphetamines', 'Barbiturates', 'Benzodiazepines',\n",
       "       'Cocaine', 'Cocaine/Crack', 'Crack',\n",
       "       'Hallucinogens: LSD, DMS, STP, etc', 'Heroin', 'Inhalants',\n",
       "       'Marijuana, Hashish, THC', 'Methamphetamines',\n",
       "       'Non-Prescriptive Methadone', 'Other',\n",
       "       'Other Opiates and Synthetics', 'Other Sedatives or Hypnotics',\n",
       "       'Other Stimulants', 'Over-the-Counter', 'PCP', 'Tobacco',\n",
       "       'Tranquilizers'], dtype=object)"
      ]
     },
     "execution_count": 7,
     "metadata": {},
     "output_type": "execute_result"
    }
   ],
   "source": [
    "np.unique(data['PrimaryDrug'])"
   ]
  },
  {
   "cell_type": "code",
   "execution_count": 17,
   "metadata": {},
   "outputs": [
    {
     "data": {
      "text/plain": [
       "67886.0"
      ]
     },
     "execution_count": 17,
     "metadata": {},
     "output_type": "execute_result"
    }
   ],
   "source": [
    "data[(data['PrimaryDrug'] == \"Alcohol\") & (data['AdmCount'].notnull())]['AdmCount'].sum()"
   ]
  },
  {
   "cell_type": "code",
   "execution_count": 10,
   "metadata": {},
   "outputs": [
    {
     "data": {
      "text/plain": [
       "PrimaryDrug\n",
       "Alcohol                              67886.0\n",
       "Amphetamines                             0.0\n",
       "Barbiturates                             0.0\n",
       "Benzodiazepines                        693.0\n",
       "Cocaine                               4521.0\n",
       "Cocaine/Crack                            0.0\n",
       "Crack                                 4159.0\n",
       "Hallucinogens: LSD, DMS, STP, etc       24.0\n",
       "Heroin                               66026.0\n",
       "Inhalants                                6.0\n",
       "Marijuana, Hashish, THC              20709.0\n",
       "Methamphetamines                         0.0\n",
       "Non-Prescriptive Methadone               0.0\n",
       "Other                                    0.0\n",
       "Other Opiates and Synthetics          4535.0\n",
       "Other Sedatives or Hypnotics             0.0\n",
       "Other Stimulants                         0.0\n",
       "Over-the-Counter                         0.0\n",
       "PCP                                   2185.0\n",
       "Tobacco                                  0.0\n",
       "Tranquilizers                            0.0\n",
       "Name: AdmCount, dtype: float64"
      ]
     },
     "execution_count": 10,
     "metadata": {},
     "output_type": "execute_result"
    }
   ],
   "source": [
    "data['AdmCount'].groupby(data['PrimaryDrug']).sum()"
   ]
  }
 ],
 "metadata": {
  "kernelspec": {
   "display_name": "Python 2",
   "language": "python",
   "name": "python2"
  },
  "language_info": {
   "codemirror_mode": {
    "name": "ipython",
    "version": 2
   },
   "file_extension": ".py",
   "mimetype": "text/x-python",
   "name": "python",
   "nbconvert_exporter": "python",
   "pygments_lexer": "ipython2",
   "version": "2.7.15"
  }
 },
 "nbformat": 4,
 "nbformat_minor": 2
}
