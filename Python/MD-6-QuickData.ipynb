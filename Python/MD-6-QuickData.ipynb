{
 "cells": [
  {
   "cell_type": "markdown",
   "metadata": {},
   "source": [
    "Quick Data!\n",
    "---"
   ]
  },
  {
   "cell_type": "markdown",
   "metadata": {},
   "source": [
    "Now, as a \"fun\" exercise, we're just going to go quickly through some of the stuff we covered earlier to demonstrate how Python, Pandas, NumPy and MatPlotLib can work together. I don't know how you spend your evenings, but me? I like to check out datasets on data.gov!"
   ]
  },
  {
   "cell_type": "markdown",
   "metadata": {},
   "source": [
    "Standard library imports..."
   ]
  },
  {
   "cell_type": "code",
   "execution_count": null,
   "metadata": {},
   "outputs": [],
   "source": [
    "import pandas as pd\n",
    "import numpy as np\n",
    "import matplotlib.pyplot as plt\n",
    "%matplotlib inline"
   ]
  },
  {
   "cell_type": "markdown",
   "metadata": {},
   "source": [
    "Here's a simple CSV file showing some power usage for zip codes over time. I've added the URL in case the file gets corrupted. Please feel free to download your own, though the column and row names (not to mention Series and DataFrame sizes may be different)."
   ]
  },
  {
   "cell_type": "code",
   "execution_count": null,
   "metadata": {
    "scrolled": true
   },
   "outputs": [],
   "source": [
    "# http://catalog.data.gov/dataset/average-monthly-residential-energy-usage-by-zip-code-0487d\n",
    "power_data = pd.read_csv(r'Average_monthly_residential_energy_usage_By_zip_code.csv',header=0)\n",
    "power_data.columns.values"
   ]
  },
  {
   "cell_type": "markdown",
   "metadata": {},
   "source": [
    "This is here to remind us to look at the inline documentation for `pd.read_csv`."
   ]
  },
  {
   "cell_type": "code",
   "execution_count": null,
   "metadata": {},
   "outputs": [],
   "source": [
    "# pd.read_csv?"
   ]
  },
  {
   "cell_type": "markdown",
   "metadata": {},
   "source": [
    "Looking at the data in the column 'Location 1'. It's weirdly formatted, where it appears that there is a zip code, followed by some coordinates. "
   ]
  },
  {
   "cell_type": "code",
   "execution_count": null,
   "metadata": {},
   "outputs": [],
   "source": [
    "power_data.loc[0,'Location 1']"
   ]
  },
  {
   "cell_type": "markdown",
   "metadata": {},
   "source": [
    "We're not really interested in the coordinates (today), so let's grab what is presumably a zip code. We could use regular expressions, but since we're only ever looking at the first five characters, a simple slice will do."
   ]
  },
  {
   "cell_type": "code",
   "execution_count": null,
   "metadata": {},
   "outputs": [],
   "source": [
    "power_data['Location 1'] = power_data['Location 1'].str[:5]"
   ]
  },
  {
   "cell_type": "code",
   "execution_count": null,
   "metadata": {},
   "outputs": [],
   "source": [
    "power_data = power_data.set_index('Location 1')"
   ]
  },
  {
   "cell_type": "code",
   "execution_count": null,
   "metadata": {},
   "outputs": [],
   "source": [
    "power_data = power_data.sort_index()"
   ]
  },
  {
   "cell_type": "markdown",
   "metadata": {},
   "source": [
    "We'll change the index name to something more informative than 'Location 1'"
   ]
  },
  {
   "cell_type": "code",
   "execution_count": null,
   "metadata": {},
   "outputs": [],
   "source": [
    "power_data.index.name = 'Zip Code'"
   ]
  },
  {
   "cell_type": "markdown",
   "metadata": {},
   "source": [
    "Now, let's talk about `pd.date_range()`. This is a very powerful function within Pandas for creating ranges of dates."
   ]
  },
  {
   "cell_type": "code",
   "execution_count": null,
   "metadata": {},
   "outputs": [],
   "source": [
    "# pd.date_range?"
   ]
  },
  {
   "cell_type": "markdown",
   "metadata": {},
   "source": [
    "By default, `pd.date_range()` assumes a daily frequency:"
   ]
  },
  {
   "cell_type": "code",
   "execution_count": null,
   "metadata": {
    "scrolled": true
   },
   "outputs": [],
   "source": [
    "pd.date_range(start='01-01-2005',end='01-10-2005')"
   ]
  },
  {
   "cell_type": "markdown",
   "metadata": {},
   "source": [
    "in the information output, there's a *freq='D'*. This means that the frequency is 'Daily'. We could use other codes, such as 'A' for __A__nnually, 'M' for __M__onthly, or even 'H' for __H__ourly."
   ]
  },
  {
   "cell_type": "code",
   "execution_count": null,
   "metadata": {},
   "outputs": [],
   "source": [
    "pd.date_range(start='01-01-2005',end='08-10-2005',freq='M')"
   ]
  },
  {
   "cell_type": "markdown",
   "metadata": {},
   "source": [
    "We can even specify when we want the repetition to occur. Below, we're using 'AS-JAN'. This means the frequency is __A__nnual,  __S__tarting on __JAN__uary 1st."
   ]
  },
  {
   "cell_type": "code",
   "execution_count": null,
   "metadata": {},
   "outputs": [],
   "source": [
    "pd.date_range(start='01-01-2005',end='01-01-2012',freq='AS-JAN')"
   ]
  },
  {
   "cell_type": "code",
   "execution_count": null,
   "metadata": {},
   "outputs": [],
   "source": [
    "dateColumnNames = pd.date_range(start='01-01-2005',end='01-01-2012',freq='AS-JAN')"
   ]
  },
  {
   "cell_type": "markdown",
   "metadata": {},
   "source": [
    "It may seem a little repetitive to then bring it back to a string for processing, but this is largely an exercise, so we're just going to convert to a string, and just use the year for simplicity.\n",
    "\n",
    "_NOTE: this functionality may cause an error unless you are using a current version of Pandas/NumPy._"
   ]
  },
  {
   "cell_type": "markdown",
   "metadata": {},
   "source": [
    "http://strftime.org"
   ]
  },
  {
   "cell_type": "code",
   "execution_count": null,
   "metadata": {},
   "outputs": [],
   "source": [
    "dateColumnNames"
   ]
  },
  {
   "cell_type": "code",
   "execution_count": null,
   "metadata": {},
   "outputs": [],
   "source": [
    "power_data.columns = dateColumnNames.strftime('%Y')"
   ]
  },
  {
   "cell_type": "code",
   "execution_count": null,
   "metadata": {},
   "outputs": [],
   "source": [
    "power_data['Average'] = power_data.mean(axis=1)"
   ]
  },
  {
   "cell_type": "code",
   "execution_count": null,
   "metadata": {
    "scrolled": true
   },
   "outputs": [],
   "source": [
    "power_data"
   ]
  },
  {
   "cell_type": "code",
   "execution_count": null,
   "metadata": {},
   "outputs": [],
   "source": [
    "power_data.iloc[:,7].name"
   ]
  },
  {
   "cell_type": "code",
   "execution_count": null,
   "metadata": {},
   "outputs": [],
   "source": [
    "power_data.index[0:10].values"
   ]
  },
  {
   "cell_type": "code",
   "execution_count": null,
   "metadata": {},
   "outputs": [],
   "source": [
    "plt.ylabel?"
   ]
  },
  {
   "cell_type": "code",
   "execution_count": null,
   "metadata": {
    "scrolled": false
   },
   "outputs": [],
   "source": [
    "barWidth = .75\n",
    "samples_num = 8\n",
    "plt.figure(figsize=(12,8))\n",
    "plt.barh(np.arange(samples_num),power_data['Average'][0:samples_num],barWidth)\n",
    "\n",
    "plt.title('Power Consumption by Zip Code in Los Angeles')\n",
    "plt.xlabel('Usage in kWh')\n",
    "plt.ylabel('Zip Code')\n",
    "plt.yticks(np.arange(samples_num),power_data.index[0:samples_num],rotation=90,verticalalignment = 'center');"
   ]
  },
  {
   "cell_type": "code",
   "execution_count": null,
   "metadata": {},
   "outputs": [],
   "source": [
    "startZip = 0\n",
    "samples = 5\n",
    "endZip = startZip + samples\n",
    "\n",
    "dataYear = '2012'\n",
    "\n",
    "index = np.arange(samples)\n",
    "\n",
    "# notice how we're doing the indexer here...\n",
    "powerZip = power_data.iloc[startZip:endZip].index.values\n",
    "barWidth = .2\n",
    "\n",
    "# and here...\n",
    "powerAvg = power_data.loc[power_data.index[startZip:endZip],'Average'].values\n",
    "powerYear = power_data.loc[power_data.index[startZip:endZip], dataYear].values\n",
    "\n",
    "power_chart = plt.figure(figsize=(16,8))\n",
    "power1 = plt.bar(index, powerAvg, barWidth, color='#f1c40f', label='Average')\n",
    "power2 = plt.bar(index + barWidth, powerYear, barWidth, color='#dc7633', label=dataYear)\n",
    "plt.xticks(index + barWidth/2, powerZip)\n",
    "plt.title('Power Consumption by Zip Code in Los Angeles')\n",
    "\n",
    "# don't forget to switch these, now that the bars are vertical:\n",
    "plt.ylabel('Usage in kWh')\n",
    "plt.xlabel('Zip Code')\n",
    "plt.legend(loc=0);"
   ]
  }
 ],
 "metadata": {
  "anaconda-cloud": {},
  "kernelspec": {
   "display_name": "Python 3",
   "language": "python",
   "name": "python3"
  },
  "language_info": {
   "codemirror_mode": {
    "name": "ipython",
    "version": 3
   },
   "file_extension": ".py",
   "mimetype": "text/x-python",
   "name": "python",
   "nbconvert_exporter": "python",
   "pygments_lexer": "ipython3",
   "version": "3.7.3"
  }
 },
 "nbformat": 4,
 "nbformat_minor": 1
}
