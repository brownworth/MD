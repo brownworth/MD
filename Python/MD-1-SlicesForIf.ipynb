{
 "cells": [
  {
   "cell_type": "markdown",
   "metadata": {},
   "source": [
    "Slices and FOR loops (with a little IF in there too!)\n",
    "-------\n",
    "First, slices:\n",
    "--"
   ]
  },
  {
   "cell_type": "markdown",
   "metadata": {},
   "source": [
    "For this part, we'll be experimenting with slices. First, let's define a variable and assign some numbers to it."
   ]
  },
  {
   "cell_type": "code",
   "execution_count": null,
   "metadata": {
    "scrolled": true
   },
   "outputs": [],
   "source": [
    "some_numbers = list(range(10))\n",
    "print(some_numbers)"
   ]
  },
  {
   "cell_type": "markdown",
   "metadata": {},
   "source": [
    "This is a _list_ of numbers. Sometimes we'll say *array* instead of list. But it is technically a **list**. See below when we request its type:"
   ]
  },
  {
   "cell_type": "code",
   "execution_count": null,
   "metadata": {
    "scrolled": true
   },
   "outputs": [],
   "source": [
    "type(some_numbers)"
   ]
  },
  {
   "cell_type": "markdown",
   "metadata": {},
   "source": [
    "This is a 'slice'. Like a slice of cake, we are taking a smaller piece of the whole. Also, like a slice of cake, we can change the size depending on how large of a piece we want. In this case, we are taking a slice with a single element."
   ]
  },
  {
   "cell_type": "code",
   "execution_count": null,
   "metadata": {
    "scrolled": true
   },
   "outputs": [],
   "source": [
    "print(some_numbers[3])"
   ]
  },
  {
   "cell_type": "markdown",
   "metadata": {},
   "source": [
    "We know that the item `some_numbers` is a list, but the things in it are integers. We can use a single element slice to verify this:"
   ]
  },
  {
   "cell_type": "code",
   "execution_count": null,
   "metadata": {
    "scrolled": true
   },
   "outputs": [],
   "source": [
    "type(some_numbers[3])"
   ]
  },
  {
   "cell_type": "markdown",
   "metadata": {},
   "source": [
    "Because Python uses _zero-indexing_ when we ask for the element in position number 3, we are actually asking for the _fourth_ number. Thankfully for this example, the `range` function with a single argument starts with zero. It also shows why we stop at 9, rather than going on to 10.\n",
    "\n",
    "For example, we get an error if we try to get the element in position number 10:"
   ]
  },
  {
   "cell_type": "code",
   "execution_count": null,
   "metadata": {},
   "outputs": [],
   "source": [
    "some_numbers[10]"
   ]
  },
  {
   "cell_type": "markdown",
   "metadata": {},
   "source": [
    "We can also take slices that are larger than one element by specifying the beginning and end."
   ]
  },
  {
   "cell_type": "code",
   "execution_count": null,
   "metadata": {
    "scrolled": false
   },
   "outputs": [],
   "source": [
    "print(some_numbers[2:4])\n",
    "print(some_numbers[6:9])\n",
    "print(some_numbers[2:6])"
   ]
  },
  {
   "cell_type": "markdown",
   "metadata": {},
   "source": [
    "We can also assign the position numbers to variables and use those in the slices."
   ]
  },
  {
   "cell_type": "code",
   "execution_count": null,
   "metadata": {},
   "outputs": [],
   "source": [
    "start_position = 2\n",
    "end_position = 6\n",
    "print(some_numbers[start_position:end_position])"
   ]
  },
  {
   "cell_type": "markdown",
   "metadata": {},
   "source": [
    "Note: this starts at the position indicated by the first number and stops _before the position of the second number_. There is a ':' (colon) to separate the two. (This will be really important later)"
   ]
  },
  {
   "cell_type": "markdown",
   "metadata": {},
   "source": [
    "Speaking of variable names, we need to be careful when we assign things to variables. Sometimes, we get a copy, and sometimes we just point at the original. Watch this:"
   ]
  },
  {
   "cell_type": "code",
   "execution_count": null,
   "metadata": {},
   "outputs": [],
   "source": [
    "original_numbers = list(range(6))\n",
    "print(original_numbers)\n",
    "point_at_numbers = original_numbers\n",
    "copy_the_numbers = original_numbers[:] # we are copying the original_numbers list elements, instead of just pointing at it.\n",
    "print('original_numbers =', original_numbers)\n",
    "print('point_at_numbers =', point_at_numbers)\n",
    "print('copy_the_numbers =', copy_the_numbers)\n",
    "print('\\n')\n",
    "print('changing original_numbers . . .')\n",
    "original_numbers[3] = 7\n",
    "print('original_numbers =', original_numbers)\n",
    "print('point_at_numbers =', point_at_numbers)\n",
    "print('copy_the_numbers =', copy_the_numbers)"
   ]
  },
  {
   "cell_type": "code",
   "execution_count": null,
   "metadata": {},
   "outputs": [],
   "source": [
    "print(type(point_at_numbers[3]))\n",
    "print(type(copy_the_numbers[3]))"
   ]
  },
  {
   "cell_type": "markdown",
   "metadata": {},
   "source": [
    "This can be confusing, so it's always good to check the values of your variables when possible, and if you can, know the difference between copying and pointing (it's not always obvious.)"
   ]
  },
  {
   "cell_type": "markdown",
   "metadata": {},
   "source": [
    "Up until now, we have used positive numbers to indicate position. This indicates that we are starting from the front (or left) side of the list. If we want, we can start from the back (or right) side of the list using negative numbers. This is **especially useful** when we don't know how many elements are in our list."
   ]
  },
  {
   "cell_type": "code",
   "execution_count": null,
   "metadata": {
    "scrolled": false
   },
   "outputs": [],
   "source": [
    "print(some_numbers[-2])\n",
    "print(some_numbers[-5:-2])"
   ]
  },
  {
   "cell_type": "markdown",
   "metadata": {},
   "source": [
    "Note, in the above example, we started at a point indicated by its position relative to the end. But, if we wanted to travel backwards, it doesn't always work that way."
   ]
  },
  {
   "cell_type": "code",
   "execution_count": null,
   "metadata": {
    "scrolled": true
   },
   "outputs": [],
   "source": [
    "print(some_numbers[-2:-5])"
   ]
  },
  {
   "cell_type": "markdown",
   "metadata": {},
   "source": [
    "In this case, Python assumes that we want to start at the second-to-last element, and get all of the elements leading up to the fifth-to-last element. But you can't travel from left to right and get anything.\n",
    "\n",
    "Or, can you?"
   ]
  },
  {
   "cell_type": "code",
   "execution_count": null,
   "metadata": {
    "scrolled": true
   },
   "outputs": [],
   "source": [
    "print(some_numbers[-2:-5:-1])"
   ]
  },
  {
   "cell_type": "markdown",
   "metadata": {},
   "source": [
    "here, we introduced the **stride**. We are saying: Let's start at the second-to-last element and stop before the fifth-to-last element, but _go in a negative direction_. (This will also be important later)"
   ]
  },
  {
   "cell_type": "markdown",
   "metadata": {},
   "source": [
    "Stride doesn't have to be '-1'. In fact, it can be any integer, positive or negative. If we wanted, we can start at element 2 (the third element), go to the element before 7, and do so with a stride of 3"
   ]
  },
  {
   "cell_type": "code",
   "execution_count": null,
   "metadata": {
    "scrolled": true
   },
   "outputs": [],
   "source": [
    "print(some_numbers[2:7:3])"
   ]
  },
  {
   "cell_type": "markdown",
   "metadata": {},
   "source": [
    "We can also use stride by itself."
   ]
  },
  {
   "cell_type": "code",
   "execution_count": null,
   "metadata": {
    "scrolled": false
   },
   "outputs": [],
   "source": [
    "print(some_numbers[::-1])\n",
    "print(some_numbers[::2])"
   ]
  },
  {
   "cell_type": "markdown",
   "metadata": {},
   "source": [
    "We can also optionally exclude the beginning and/or end numbers, provided we use the ':' to indicate we are skipping a value on one side of it. Look at the difference between the first two entries:"
   ]
  },
  {
   "cell_type": "code",
   "execution_count": null,
   "metadata": {},
   "outputs": [],
   "source": [
    "print(some_numbers[4])"
   ]
  },
  {
   "cell_type": "code",
   "execution_count": null,
   "metadata": {},
   "outputs": [],
   "source": [
    "print(some_numbers[4:])"
   ]
  },
  {
   "cell_type": "code",
   "execution_count": null,
   "metadata": {},
   "outputs": [],
   "source": [
    "print(some_numbers[2::4])"
   ]
  },
  {
   "cell_type": "code",
   "execution_count": null,
   "metadata": {
    "scrolled": false
   },
   "outputs": [],
   "source": [
    "print(some_numbers[:7:2])"
   ]
  },
  {
   "cell_type": "markdown",
   "metadata": {},
   "source": [
    "We don't have to use slices with just lists of integers. We can also use it with text (called _strings_)."
   ]
  },
  {
   "cell_type": "code",
   "execution_count": null,
   "metadata": {},
   "outputs": [],
   "source": [
    "some_text = \"I am the very model of a modern major general\"\n",
    "print(type(some_text))"
   ]
  },
  {
   "cell_type": "code",
   "execution_count": null,
   "metadata": {
    "scrolled": true
   },
   "outputs": [],
   "source": [
    "print(some_text)\n",
    "print(some_text[2:22])"
   ]
  },
  {
   "cell_type": "markdown",
   "metadata": {},
   "source": [
    "Stride works with strings as well. Want to quickly reverse the letters in a string? Check this out:"
   ]
  },
  {
   "cell_type": "code",
   "execution_count": null,
   "metadata": {
    "scrolled": true
   },
   "outputs": [],
   "source": [
    "print(some_text[::-1])"
   ]
  },
  {
   "cell_type": "markdown",
   "metadata": {},
   "source": [
    "You can also use slices with stride on strings, should that be your thing. (it probably won't be; I'm just putting it in here because it's neat)."
   ]
  },
  {
   "cell_type": "code",
   "execution_count": null,
   "metadata": {
    "scrolled": true
   },
   "outputs": [],
   "source": [
    "print(some_text[5:30:4])"
   ]
  },
  {
   "cell_type": "markdown",
   "metadata": {},
   "source": [
    "Being able to work with individual slices of characters in a string can be useful, but what if you wanted to work with words instead?"
   ]
  },
  {
   "cell_type": "markdown",
   "metadata": {},
   "source": [
    "By converting the string to a list of strings, we can treat each individual word (as separated by space - important later!) as a \n",
    "separate element. The `.split()` method separates a string based upon the space character (by default). We can definitely split on other characters. As such, `.split()` is probably something you will use frequently."
   ]
  },
  {
   "cell_type": "code",
   "execution_count": null,
   "metadata": {},
   "outputs": [],
   "source": [
    "some_words = some_text.split()\n",
    "print(type(some_words))\n",
    "print(type(some_words[0]))\n",
    "print(some_words)"
   ]
  },
  {
   "cell_type": "markdown",
   "metadata": {},
   "source": [
    "Just like the strings or lists of numbers, we can slice the list of words too."
   ]
  },
  {
   "cell_type": "code",
   "execution_count": null,
   "metadata": {
    "scrolled": true
   },
   "outputs": [],
   "source": [
    "print(some_words[2:3])\n",
    "print(some_words[-2:-8:-2])"
   ]
  },
  {
   "cell_type": "markdown",
   "metadata": {},
   "source": [
    "For Loops!\n",
    "--"
   ]
  },
  {
   "cell_type": "markdown",
   "metadata": {},
   "source": [
    "It's good to be able to separate slices within other objects, but what if you want to perform an action on the elements of these slices? this is where we use a **for** loop. In this case you are looking to do something _for_ each element within a list, string, etc. Notice the colon ':' and the indent on the following line. "
   ]
  },
  {
   "cell_type": "code",
   "execution_count": null,
   "metadata": {
    "scrolled": true
   },
   "outputs": [],
   "source": [
    "for i in some_numbers:\n",
    "    print(i)"
   ]
  },
  {
   "cell_type": "markdown",
   "metadata": {},
   "source": [
    "Maybe you would like to square each of these numbers."
   ]
  },
  {
   "cell_type": "code",
   "execution_count": null,
   "metadata": {
    "scrolled": false
   },
   "outputs": [],
   "source": [
    "for i in some_numbers:\n",
    "    print(i**2)"
   ]
  },
  {
   "cell_type": "markdown",
   "metadata": {},
   "source": [
    "We haven't talked about numbers with decimals yet. Those are refered to as **floats** or a **float**, refering to the *floating point* necessary to indicate a decimal. But, in many ways, they behave similarly to integers."
   ]
  },
  {
   "cell_type": "code",
   "execution_count": null,
   "metadata": {
    "scrolled": true
   },
   "outputs": [],
   "source": [
    "some_floats = [1.2,6.89,3.58]\n",
    "type(some_floats[0])\n",
    "for i in some_floats:\n",
    "    print(i**2.5)"
   ]
  },
  {
   "cell_type": "markdown",
   "metadata": {},
   "source": [
    "Maybe you would like to count backwards with a message (and maybe save your sanity on a car ride)."
   ]
  },
  {
   "cell_type": "code",
   "execution_count": null,
   "metadata": {
    "scrolled": false
   },
   "outputs": [],
   "source": [
    "for i in some_numbers[10:0:-1]:\n",
    "    print(i,'bottles of beer on the wall.')\n",
    "    print(i,\"bottles of beer!\")\n",
    "    print(\"Take one down, pass it around.\")\n",
    "    print(i-1,\"bottles of beer on the wall.\")"
   ]
  },
  {
   "cell_type": "markdown",
   "metadata": {},
   "source": [
    "Slices can be used in lots of locations. Here we're going through the words incrementally, (also known as _iterating_) and printing the first two characters of each word. Also note, we don't have to use 'i' as the variable. In this example, since I'm looking for 'a word' in a list of 'some words', it seemed to make sense to go ahead and name my variables in such a way that might help me (or someone else) understand what I was thinking here."
   ]
  },
  {
   "cell_type": "code",
   "execution_count": null,
   "metadata": {
    "scrolled": false
   },
   "outputs": [],
   "source": [
    "for a_word in some_words:\n",
    "    print(a_word[0:2])"
   ]
  },
  {
   "cell_type": "markdown",
   "metadata": {},
   "source": [
    "Why not include a condition for whether or not we print(a word. In this case, we want to see **if** the word contains the letter 'n'. Also notice the second level of indention.)"
   ]
  },
  {
   "cell_type": "code",
   "execution_count": null,
   "metadata": {
    "scrolled": true
   },
   "outputs": [],
   "source": [
    "for a_word in some_words:\n",
    "    if 'a' in a_word:\n",
    "        print(a_word)"
   ]
  },
  {
   "cell_type": "markdown",
   "metadata": {},
   "source": [
    "We can also do some for loops, and if statements using list comprehension. It's similar to what we saw above, but returns the result as a list. In this case we are indicating the operation first, followed by the 'for' loop syntax:"
   ]
  },
  {
   "cell_type": "code",
   "execution_count": null,
   "metadata": {},
   "outputs": [],
   "source": [
    "[a_word[0:2] for a_word in some_words]"
   ]
  },
  {
   "cell_type": "code",
   "execution_count": null,
   "metadata": {
    "scrolled": true
   },
   "outputs": [],
   "source": [
    "[a_word for a_word in some_words if 'a' in a_word]"
   ]
  },
  {
   "cell_type": "markdown",
   "metadata": {},
   "source": [
    "We can measure other criteria for the if statement. For example:"
   ]
  },
  {
   "cell_type": "code",
   "execution_count": null,
   "metadata": {
    "scrolled": true
   },
   "outputs": [],
   "source": [
    "[a_word for a_word in some_words if len(a_word) > 4]"
   ]
  },
  {
   "cell_type": "markdown",
   "metadata": {},
   "source": [
    "And, if we want to get really confusing, we can create a list within the list comprehension. For this, we're doing the following:\n",
    "for each word (a_word) in the list of words (some_words),\n",
    "- display the word in UPPERCASE letters\n",
    "- reverse the letters using a slice, and then write it in UPPERCASE letters\n",
    "- use the `len()` function to say how many letters are in each word (a_word)\n",
    "\n",
    "and, combine all of that into a list of lists!"
   ]
  },
  {
   "cell_type": "code",
   "execution_count": null,
   "metadata": {
    "scrolled": true
   },
   "outputs": [],
   "source": [
    "lists = [[a_word.upper(), a_word[::-1].upper(), len(a_word)] for a_word in some_words]\n",
    "lists"
   ]
  },
  {
   "cell_type": "markdown",
   "metadata": {},
   "source": [
    "Since we created a list, we can slice it:"
   ]
  },
  {
   "cell_type": "code",
   "execution_count": null,
   "metadata": {},
   "outputs": [],
   "source": [
    "lists[2:4]"
   ]
  },
  {
   "cell_type": "markdown",
   "metadata": {},
   "source": [
    "We can even slice the slices!"
   ]
  },
  {
   "cell_type": "code",
   "execution_count": null,
   "metadata": {},
   "outputs": [],
   "source": [
    "lists[2][1]"
   ]
  },
  {
   "cell_type": "markdown",
   "metadata": {},
   "source": [
    "and again!"
   ]
  },
  {
   "cell_type": "code",
   "execution_count": null,
   "metadata": {},
   "outputs": [],
   "source": [
    "lists[2][1][1]"
   ]
  }
 ],
 "metadata": {
  "anaconda-cloud": {},
  "kernelspec": {
   "display_name": "Python 3",
   "language": "python",
   "name": "python3"
  },
  "language_info": {
   "codemirror_mode": {
    "name": "ipython",
    "version": 3
   },
   "file_extension": ".py",
   "mimetype": "text/x-python",
   "name": "python",
   "nbconvert_exporter": "python",
   "pygments_lexer": "ipython3",
   "version": "3.7.3"
  },
  "nbpresent": {
   "slides": {
    "03483c92-297a-46c3-8e63-0203fb8123df": {
     "id": "03483c92-297a-46c3-8e63-0203fb8123df",
     "prev": "d274b096-ec70-453e-9c5f-cd89f2190420",
     "regions": {
      "4d32ea39-577e-4906-81f1-5b2783a50ae2": {
       "attrs": {
        "height": 0.8,
        "width": 0.8,
        "x": 0.1,
        "y": 0.1
       },
       "content": {
        "cell": "c10ba223-6aee-44cd-8312-5bb48fd9b9bc",
        "part": "whole"
       },
       "id": "4d32ea39-577e-4906-81f1-5b2783a50ae2"
      }
     }
    },
    "05d41182-830e-4ee8-8246-3b9fd085289b": {
     "id": "05d41182-830e-4ee8-8246-3b9fd085289b",
     "prev": "da5c28c5-13ea-4204-bd96-c3d16dff3f2c",
     "regions": {
      "8b6f2edf-1671-4df6-903c-186c75033c91": {
       "attrs": {
        "height": 0.8,
        "width": 0.8,
        "x": 0.1,
        "y": 0.1
       },
       "content": {
        "cell": "cdb85047-c946-40c1-8158-af865ad2aab8",
        "part": "whole"
       },
       "id": "8b6f2edf-1671-4df6-903c-186c75033c91"
      }
     }
    },
    "0827e02b-5de4-4781-a537-dd81823b7e63": {
     "id": "0827e02b-5de4-4781-a537-dd81823b7e63",
     "prev": "56235d26-e34e-45bc-a4e9-98759e56dcdd",
     "regions": {
      "9112b12b-76cf-471c-9ff7-b5b0426d884c": {
       "attrs": {
        "height": 0.8,
        "width": 0.8,
        "x": 0.1,
        "y": 0.1
       },
       "content": {
        "cell": "c3a84627-a5da-4704-80cc-09d9a6db76ab",
        "part": "whole"
       },
       "id": "9112b12b-76cf-471c-9ff7-b5b0426d884c"
      }
     }
    },
    "167aa81a-feaa-4075-942a-8ea616faedbd": {
     "id": "167aa81a-feaa-4075-942a-8ea616faedbd",
     "prev": "ddccf0c7-284f-4bf2-9b65-233b5a6f26d9",
     "regions": {
      "bbc7fd71-1711-4a25-b728-74fcb3ae8952": {
       "attrs": {
        "height": 0.8,
        "width": 0.8,
        "x": 0.1,
        "y": 0.1
       },
       "content": {
        "cell": "1c0316a7-6a4d-414e-b959-5bf9b1f12d37",
        "part": "whole"
       },
       "id": "bbc7fd71-1711-4a25-b728-74fcb3ae8952"
      }
     }
    },
    "17863120-235f-46f3-8b5b-23836c21c023": {
     "id": "17863120-235f-46f3-8b5b-23836c21c023",
     "prev": "2e6cf0bb-8a20-4393-ab6d-ef2e663e519c",
     "regions": {
      "5a6b81fb-4d5b-45b5-868c-ed890cff24df": {
       "attrs": {
        "height": 0.8,
        "width": 0.8,
        "x": 0.1,
        "y": 0.1
       },
       "content": {
        "cell": "76551602-07d6-443d-a85a-0cd6190dd4b3",
        "part": "whole"
       },
       "id": "5a6b81fb-4d5b-45b5-868c-ed890cff24df"
      }
     }
    },
    "1fd74a5e-c5f8-40f5-912b-12b02d3b8023": {
     "id": "1fd74a5e-c5f8-40f5-912b-12b02d3b8023",
     "prev": "42c8a44e-929d-415f-9fc8-3588660bd349",
     "regions": {
      "cf1365b6-0c93-40f6-9062-0ed469505373": {
       "attrs": {
        "height": 0.8,
        "width": 0.8,
        "x": 0.1,
        "y": 0.1
       },
       "content": {
        "cell": "675a2872-c7bf-4a94-8950-812f15d1779d",
        "part": "whole"
       },
       "id": "cf1365b6-0c93-40f6-9062-0ed469505373"
      }
     }
    },
    "22692079-4ecd-43dc-8208-0f5931ab9a4b": {
     "id": "22692079-4ecd-43dc-8208-0f5931ab9a4b",
     "prev": "f1dcb6c9-545e-4081-b432-2828f97bc465",
     "regions": {
      "e35cea3d-084f-4a8a-99ea-b50dac81f7ac": {
       "attrs": {
        "height": 0.8,
        "width": 0.8,
        "x": 0.1,
        "y": 0.1
       },
       "content": {
        "cell": "e296679f-fcb6-41fc-a4ce-ce0580df0f75",
        "part": "whole"
       },
       "id": "e35cea3d-084f-4a8a-99ea-b50dac81f7ac"
      }
     }
    },
    "241eb47e-4225-464e-bbe1-99d5a56c1a26": {
     "id": "241eb47e-4225-464e-bbe1-99d5a56c1a26",
     "prev": null,
     "regions": {
      "1585816f-6095-435d-8c12-1c488c1ce323": {
       "attrs": {
        "height": 0.8,
        "width": 0.8,
        "x": 0.1,
        "y": 0.1
       },
       "content": {
        "cell": "aac0be6f-4059-4630-b2f4-aac39e48f411",
        "part": "whole"
       },
       "id": "1585816f-6095-435d-8c12-1c488c1ce323"
      }
     }
    },
    "2508948a-d5c4-4ae1-8480-bc064f978b62": {
     "id": "2508948a-d5c4-4ae1-8480-bc064f978b62",
     "prev": "b72474ec-4237-4d36-96e0-96ad3c4c372e",
     "regions": {
      "ff265f7d-0c0e-4c9d-9af7-0f478e5d2287": {
       "attrs": {
        "height": 0.8,
        "width": 0.8,
        "x": 0.1,
        "y": 0.1
       },
       "content": {
        "cell": "12fd240f-27f3-4ff2-a32e-c841b6bf9397",
        "part": "whole"
       },
       "id": "ff265f7d-0c0e-4c9d-9af7-0f478e5d2287"
      }
     }
    },
    "2d053899-6ac7-4994-9d30-b4725cf6ab6d": {
     "id": "2d053899-6ac7-4994-9d30-b4725cf6ab6d",
     "prev": "bcdda9c7-8818-42e4-99e7-f098624be0f7",
     "regions": {
      "0bfdc045-11f9-4540-9efc-2341dd99b445": {
       "attrs": {
        "height": 0.8,
        "width": 0.8,
        "x": 0.1,
        "y": 0.1
       },
       "content": {
        "cell": "1664f387-1917-4a28-8379-3dc9b7de8386",
        "part": "whole"
       },
       "id": "0bfdc045-11f9-4540-9efc-2341dd99b445"
      }
     }
    },
    "2deb05f5-d16e-401d-93ee-976009d0d6fb": {
     "id": "2deb05f5-d16e-401d-93ee-976009d0d6fb",
     "prev": "c3cb5c36-7f12-4140-b6d3-288146c3fe6a",
     "regions": {
      "3f63b668-a323-4810-8409-246761948ca4": {
       "attrs": {
        "height": 0.8,
        "width": 0.8,
        "x": 0.1,
        "y": 0.1
       },
       "content": {
        "cell": "12af2bac-2e32-4366-a6f4-78703b17de10",
        "part": "whole"
       },
       "id": "3f63b668-a323-4810-8409-246761948ca4"
      }
     }
    },
    "2e6a910d-05e4-4337-8444-9a8e914410c1": {
     "id": "2e6a910d-05e4-4337-8444-9a8e914410c1",
     "prev": "4ea2b4cd-e9f6-4157-91c8-3dfbac987cdb",
     "regions": {
      "0523af3a-9236-4115-b9c9-993822882d3b": {
       "attrs": {
        "height": 0.8,
        "width": 0.8,
        "x": 0.1,
        "y": 0.1
       },
       "content": {
        "cell": "0a84076f-6015-4fd6-b2f6-ba721f4469ec",
        "part": "whole"
       },
       "id": "0523af3a-9236-4115-b9c9-993822882d3b"
      }
     }
    },
    "2e6cf0bb-8a20-4393-ab6d-ef2e663e519c": {
     "id": "2e6cf0bb-8a20-4393-ab6d-ef2e663e519c",
     "prev": "a47517f1-f7d8-4850-8310-a95ce643fb95",
     "regions": {
      "4e3e64ca-5229-48c4-81fc-c26493e678ea": {
       "attrs": {
        "height": 0.8,
        "width": 0.8,
        "x": 0.1,
        "y": 0.1
       },
       "content": {
        "cell": "b1f073b7-6358-464d-8807-d9d48090707e",
        "part": "whole"
       },
       "id": "4e3e64ca-5229-48c4-81fc-c26493e678ea"
      }
     }
    },
    "30ad46c6-7710-41ac-81f2-0882415d6ded": {
     "id": "30ad46c6-7710-41ac-81f2-0882415d6ded",
     "prev": "61e3203e-754b-4942-8660-f893f75108c4",
     "regions": {
      "139c9125-d5d9-445f-81c9-43094389cdd0": {
       "attrs": {
        "height": 0.8,
        "width": 0.8,
        "x": 0.1,
        "y": 0.1
       },
       "content": {
        "cell": "7700ed5e-b12a-41d4-b484-0d4295678096",
        "part": "whole"
       },
       "id": "139c9125-d5d9-445f-81c9-43094389cdd0"
      }
     }
    },
    "38b6235f-1b25-444a-82b7-5219c71c5c3f": {
     "id": "38b6235f-1b25-444a-82b7-5219c71c5c3f",
     "prev": "acd114ee-9913-4923-8f31-d926494e501e",
     "regions": {
      "c89647dd-159b-45aa-9983-0d89b359d985": {
       "attrs": {
        "height": 0.8,
        "width": 0.8,
        "x": 0.1,
        "y": 0.1
       },
       "content": {
        "cell": "8d556480-59a8-4239-9ebc-b3bd24e68217",
        "part": "whole"
       },
       "id": "c89647dd-159b-45aa-9983-0d89b359d985"
      }
     }
    },
    "42985c73-6510-4d6c-8573-6f9f89cd61ae": {
     "id": "42985c73-6510-4d6c-8573-6f9f89cd61ae",
     "prev": "30ad46c6-7710-41ac-81f2-0882415d6ded",
     "regions": {
      "bfee3823-a7d2-458c-85db-b7b3e0fff7f0": {
       "attrs": {
        "height": 0.8,
        "width": 0.8,
        "x": 0.1,
        "y": 0.1
       },
       "content": {
        "cell": "9db8ae93-2a1b-4431-8402-d4cc3cc16b3f",
        "part": "whole"
       },
       "id": "bfee3823-a7d2-458c-85db-b7b3e0fff7f0"
      }
     }
    },
    "42c8a44e-929d-415f-9fc8-3588660bd349": {
     "id": "42c8a44e-929d-415f-9fc8-3588660bd349",
     "prev": "f4f592be-194c-47b7-b885-55f541c3bd6f",
     "regions": {
      "c2e95dac-2927-4335-bf43-9245d69088d8": {
       "attrs": {
        "height": 0.8,
        "width": 0.8,
        "x": 0.1,
        "y": 0.1
       },
       "content": {
        "cell": "2d53d75b-296e-4067-bfa1-6ed48a028524",
        "part": "whole"
       },
       "id": "c2e95dac-2927-4335-bf43-9245d69088d8"
      }
     }
    },
    "47f25c85-e623-4cad-917f-8fdc32ba1210": {
     "id": "47f25c85-e623-4cad-917f-8fdc32ba1210",
     "prev": "b5317b54-f870-42f9-9a8a-684dfd527cbd",
     "regions": {
      "31b0152e-cf0c-4848-882c-15c812c2b89d": {
       "attrs": {
        "height": 0.8,
        "width": 0.8,
        "x": 0.1,
        "y": 0.1
       },
       "content": {
        "cell": "9753c94b-15fe-4ed2-b34e-1816c156894d",
        "part": "whole"
       },
       "id": "31b0152e-cf0c-4848-882c-15c812c2b89d"
      }
     }
    },
    "48bd57e1-a950-4c1e-b82d-ba61983b5d38": {
     "id": "48bd57e1-a950-4c1e-b82d-ba61983b5d38",
     "prev": "7444ca39-e1f9-488d-a08f-75dc0be7f2d9",
     "regions": {
      "c6454235-9ea3-4701-9129-bf28b369eab3": {
       "attrs": {
        "height": 0.8,
        "width": 0.8,
        "x": 0.1,
        "y": 0.1
       },
       "content": {
        "cell": "3d4ab69d-2ff6-4b85-9ed1-eb7ff8adc88f",
        "part": "whole"
       },
       "id": "c6454235-9ea3-4701-9129-bf28b369eab3"
      }
     }
    },
    "4ea2b4cd-e9f6-4157-91c8-3dfbac987cdb": {
     "id": "4ea2b4cd-e9f6-4157-91c8-3dfbac987cdb",
     "prev": "8191e780-caa1-4b77-851e-469fb1f9777d",
     "regions": {
      "d5d08f33-fe0e-46eb-a506-a75de5dd8678": {
       "attrs": {
        "height": 0.8,
        "width": 0.8,
        "x": 0.1,
        "y": 0.1
       },
       "content": {
        "cell": "f47f41f2-cd1e-4eee-97d1-4b776d8d746c",
        "part": "whole"
       },
       "id": "d5d08f33-fe0e-46eb-a506-a75de5dd8678"
      }
     }
    },
    "501dbc43-3e50-47d4-988e-be3d9fec2b7f": {
     "id": "501dbc43-3e50-47d4-988e-be3d9fec2b7f",
     "prev": "03483c92-297a-46c3-8e63-0203fb8123df",
     "regions": {
      "21c3b0b6-86b9-4dca-9bbc-9d42f241b88a": {
       "attrs": {
        "height": 0.8,
        "width": 0.8,
        "x": 0.1,
        "y": 0.1
       },
       "content": {
        "cell": "d471f2ae-bfd4-4223-9cb2-aba65dcd3047",
        "part": "whole"
       },
       "id": "21c3b0b6-86b9-4dca-9bbc-9d42f241b88a"
      }
     }
    },
    "56235d26-e34e-45bc-a4e9-98759e56dcdd": {
     "id": "56235d26-e34e-45bc-a4e9-98759e56dcdd",
     "prev": "f6463467-594e-47d2-ad17-ebd99dcd8fbb",
     "regions": {
      "d65110bf-561b-44e0-ba6a-7c55d147dd96": {
       "attrs": {
        "height": 0.8,
        "width": 0.8,
        "x": 0.1,
        "y": 0.1
       },
       "content": {
        "cell": "8d5b947e-b9e4-4656-8fef-d400ccdc822f",
        "part": "whole"
       },
       "id": "d65110bf-561b-44e0-ba6a-7c55d147dd96"
      }
     }
    },
    "61e3203e-754b-4942-8660-f893f75108c4": {
     "id": "61e3203e-754b-4942-8660-f893f75108c4",
     "prev": "8d4f1d3a-897e-458b-98ad-45f2681c9663",
     "regions": {
      "898945b1-742c-4d5f-a6d6-b47a9432354a": {
       "attrs": {
        "height": 0.8,
        "width": 0.8,
        "x": 0.1,
        "y": 0.1
       },
       "content": {
        "cell": "51ff5d56-6a5b-4378-9236-45ceee99bd7b",
        "part": "whole"
       },
       "id": "898945b1-742c-4d5f-a6d6-b47a9432354a"
      }
     }
    },
    "66008711-7977-407b-b40b-9c75d5941b2e": {
     "id": "66008711-7977-407b-b40b-9c75d5941b2e",
     "prev": "9ace1fd2-8511-4811-a175-e1757a1a6b50",
     "regions": {
      "307cf8f0-63c1-4d42-ba07-42a5ac4facd3": {
       "attrs": {
        "height": 0.8,
        "width": 0.8,
        "x": 0.1,
        "y": 0.1
       },
       "content": {
        "cell": "84ba093a-57f9-49e9-ad45-c2f2ace71db2",
        "part": "whole"
       },
       "id": "307cf8f0-63c1-4d42-ba07-42a5ac4facd3"
      }
     }
    },
    "721a0c00-ebc3-4320-bd22-a8429db7d895": {
     "id": "721a0c00-ebc3-4320-bd22-a8429db7d895",
     "prev": "abe7b829-2cd6-4ff4-aaec-2e1c89379c92",
     "regions": {
      "536f0291-dcd5-46c1-be39-6005dd2fc4de": {
       "attrs": {
        "height": 0.8,
        "width": 0.8,
        "x": 0.1,
        "y": 0.1
       },
       "content": {
        "cell": "d47588b3-7a54-4eb8-b075-f1151f3bd2bf",
        "part": "whole"
       },
       "id": "536f0291-dcd5-46c1-be39-6005dd2fc4de"
      }
     }
    },
    "7444ca39-e1f9-488d-a08f-75dc0be7f2d9": {
     "id": "7444ca39-e1f9-488d-a08f-75dc0be7f2d9",
     "prev": "ab0b5444-8e45-4861-8979-4ab6d13ea622",
     "regions": {
      "d2c3da1f-d357-40bd-bc72-d735dcecff65": {
       "attrs": {
        "height": 0.8,
        "width": 0.8,
        "x": 0.1,
        "y": 0.1
       },
       "content": {
        "cell": "31c2de04-2e27-4e81-bf29-40b9c8f3ad9e",
        "part": "whole"
       },
       "id": "d2c3da1f-d357-40bd-bc72-d735dcecff65"
      }
     }
    },
    "78f133bb-bfe6-4827-8dd4-ae5511e6ce1e": {
     "id": "78f133bb-bfe6-4827-8dd4-ae5511e6ce1e",
     "prev": "167aa81a-feaa-4075-942a-8ea616faedbd",
     "regions": {
      "f39d141c-b23c-48b6-8104-ac3925c2b781": {
       "attrs": {
        "height": 0.8,
        "width": 0.8,
        "x": 0.1,
        "y": 0.1
       },
       "content": {
        "cell": "ad30da08-e8a8-41fe-a8ed-0743dc7d13b1",
        "part": "whole"
       },
       "id": "f39d141c-b23c-48b6-8104-ac3925c2b781"
      }
     }
    },
    "7ade6f01-6113-4fa2-8737-251e22f7971f": {
     "id": "7ade6f01-6113-4fa2-8737-251e22f7971f",
     "prev": "22692079-4ecd-43dc-8208-0f5931ab9a4b",
     "regions": {
      "2c1cfdaa-ba18-4ced-a0a2-df9286f3bcfd": {
       "attrs": {
        "height": 0.8,
        "width": 0.8,
        "x": 0.1,
        "y": 0.1
       },
       "content": {
        "cell": "9fae1564-bae2-4222-be9c-683faacdad6b",
        "part": "whole"
       },
       "id": "2c1cfdaa-ba18-4ced-a0a2-df9286f3bcfd"
      }
     }
    },
    "81256c80-c6e0-4f19-878e-5e8f53049ce9": {
     "id": "81256c80-c6e0-4f19-878e-5e8f53049ce9",
     "prev": "38b6235f-1b25-444a-82b7-5219c71c5c3f",
     "regions": {
      "46d7059b-d9eb-4954-b5d2-8df68e7b4eb2": {
       "attrs": {
        "height": 0.8,
        "width": 0.8,
        "x": 0.1,
        "y": 0.1
       },
       "content": {
        "cell": "2c37b7ac-fb29-484a-bb63-435c37a169d4",
        "part": "whole"
       },
       "id": "46d7059b-d9eb-4954-b5d2-8df68e7b4eb2"
      }
     }
    },
    "8191e780-caa1-4b77-851e-469fb1f9777d": {
     "id": "8191e780-caa1-4b77-851e-469fb1f9777d",
     "prev": "d8016510-0c26-4008-8707-3a2230be06c9",
     "regions": {
      "8b7915f5-a37f-4ca7-bd92-de22d533437f": {
       "attrs": {
        "height": 0.8,
        "width": 0.8,
        "x": 0.1,
        "y": 0.1
       },
       "content": {
        "cell": "db77089c-9423-47ae-bf5d-43623b2d1b91",
        "part": "whole"
       },
       "id": "8b7915f5-a37f-4ca7-bd92-de22d533437f"
      }
     }
    },
    "8d4f1d3a-897e-458b-98ad-45f2681c9663": {
     "id": "8d4f1d3a-897e-458b-98ad-45f2681c9663",
     "prev": "d77d4f72-5ce0-42f5-9173-c08e34f1f0b3",
     "regions": {
      "9e0648a2-39f1-458b-aa7f-aeafe2b24400": {
       "attrs": {
        "height": 0.8,
        "width": 0.8,
        "x": 0.1,
        "y": 0.1
       },
       "content": {
        "cell": "d2700c88-2da0-4f97-a349-79f6e4106c2a",
        "part": "whole"
       },
       "id": "9e0648a2-39f1-458b-aa7f-aeafe2b24400"
      }
     }
    },
    "991c5bef-16b2-4873-b741-7dfe177e0380": {
     "id": "991c5bef-16b2-4873-b741-7dfe177e0380",
     "prev": "05d41182-830e-4ee8-8246-3b9fd085289b",
     "regions": {
      "24e83540-659e-4350-9f30-0a96c66e541f": {
       "attrs": {
        "height": 0.8,
        "width": 0.8,
        "x": 0.1,
        "y": 0.1
       },
       "content": {
        "cell": "80f6bf43-f0fd-4ccb-97ec-0742c08a1432",
        "part": "whole"
       },
       "id": "24e83540-659e-4350-9f30-0a96c66e541f"
      }
     }
    },
    "9ace1fd2-8511-4811-a175-e1757a1a6b50": {
     "id": "9ace1fd2-8511-4811-a175-e1757a1a6b50",
     "prev": "241eb47e-4225-464e-bbe1-99d5a56c1a26",
     "regions": {
      "5b74c523-7c58-4466-9a03-d4ad9d5e0a21": {
       "attrs": {
        "height": 0.8,
        "width": 0.8,
        "x": 0.1,
        "y": 0.1
       },
       "content": {
        "cell": "f6ddad6f-078d-413d-846d-c6ff2ce013cd",
        "part": "whole"
       },
       "id": "5b74c523-7c58-4466-9a03-d4ad9d5e0a21"
      }
     }
    },
    "a47517f1-f7d8-4850-8310-a95ce643fb95": {
     "id": "a47517f1-f7d8-4850-8310-a95ce643fb95",
     "prev": "81256c80-c6e0-4f19-878e-5e8f53049ce9",
     "regions": {
      "4c5939ee-e8dd-484d-a72a-25af89ac0f64": {
       "attrs": {
        "height": 0.8,
        "width": 0.8,
        "x": 0.1,
        "y": 0.1
       },
       "content": {
        "cell": "86142af7-69a3-4519-bd69-6c155e9ac8c4",
        "part": "whole"
       },
       "id": "4c5939ee-e8dd-484d-a72a-25af89ac0f64"
      }
     }
    },
    "a87726aa-8052-43cd-800f-7239897cd6d8": {
     "id": "a87726aa-8052-43cd-800f-7239897cd6d8",
     "prev": "da20f6f0-494e-4e37-9a3f-9ef6684663e6",
     "regions": {
      "540d463f-be22-4e78-9d5b-4b06f80d67b0": {
       "attrs": {
        "height": 0.8,
        "width": 0.8,
        "x": 0.1,
        "y": 0.1
       },
       "content": {
        "cell": "9a9a0236-b2f8-4adc-8080-6b75247bedb9",
        "part": "whole"
       },
       "id": "540d463f-be22-4e78-9d5b-4b06f80d67b0"
      }
     }
    },
    "ab0b5444-8e45-4861-8979-4ab6d13ea622": {
     "id": "ab0b5444-8e45-4861-8979-4ab6d13ea622",
     "prev": "a87726aa-8052-43cd-800f-7239897cd6d8",
     "regions": {
      "bb6a6c71-3a07-440f-822d-7dc027df73d4": {
       "attrs": {
        "height": 0.8,
        "width": 0.8,
        "x": 0.1,
        "y": 0.1
       },
       "content": {
        "cell": "d97d3c6f-9fcf-4bcd-ac83-7340f0c1071c",
        "part": "whole"
       },
       "id": "bb6a6c71-3a07-440f-822d-7dc027df73d4"
      }
     }
    },
    "abe7b829-2cd6-4ff4-aaec-2e1c89379c92": {
     "id": "abe7b829-2cd6-4ff4-aaec-2e1c89379c92",
     "prev": "2e6a910d-05e4-4337-8444-9a8e914410c1",
     "regions": {
      "010a5e48-bb84-4cdb-bd37-e1de9f2092ba": {
       "attrs": {
        "height": 0.8,
        "width": 0.8,
        "x": 0.1,
        "y": 0.1
       },
       "content": {
        "cell": "f5e51bcc-846a-48de-bb5f-652d951595ad",
        "part": "whole"
       },
       "id": "010a5e48-bb84-4cdb-bd37-e1de9f2092ba"
      }
     }
    },
    "acd114ee-9913-4923-8f31-d926494e501e": {
     "id": "acd114ee-9913-4923-8f31-d926494e501e",
     "prev": "721a0c00-ebc3-4320-bd22-a8429db7d895",
     "regions": {
      "f6ec6dab-1a11-438b-939e-71667c6465a3": {
       "attrs": {
        "height": 0.8,
        "width": 0.8,
        "x": 0.1,
        "y": 0.1
       },
       "content": {
        "cell": "651c03f2-8464-40c9-8a8e-2e3a47a1d03c",
        "part": "whole"
       },
       "id": "f6ec6dab-1a11-438b-939e-71667c6465a3"
      }
     }
    },
    "b5317b54-f870-42f9-9a8a-684dfd527cbd": {
     "id": "b5317b54-f870-42f9-9a8a-684dfd527cbd",
     "prev": "ccadf178-503a-4647-aa7c-4f54ddb199ce",
     "regions": {
      "e7758651-a2e8-492b-81de-d745bd1ec364": {
       "attrs": {
        "height": 0.8,
        "width": 0.8,
        "x": 0.1,
        "y": 0.1
       },
       "content": {
        "cell": "a1919a3a-11cd-4c2b-9e24-9a86f9e418f0",
        "part": "whole"
       },
       "id": "e7758651-a2e8-492b-81de-d745bd1ec364"
      }
     }
    },
    "b72474ec-4237-4d36-96e0-96ad3c4c372e": {
     "id": "b72474ec-4237-4d36-96e0-96ad3c4c372e",
     "prev": "e674f456-43e0-4850-90e7-7b675883a673",
     "regions": {
      "d33d9be1-5d0d-4d58-89c4-e9b98028f2b6": {
       "attrs": {
        "height": 0.8,
        "width": 0.8,
        "x": 0.1,
        "y": 0.1
       },
       "content": {
        "cell": "90c639b9-5eda-430d-a3e4-3c936cc919d9",
        "part": "whole"
       },
       "id": "d33d9be1-5d0d-4d58-89c4-e9b98028f2b6"
      }
     }
    },
    "b7cdb604-f687-4971-a73d-135b8a1fe893": {
     "id": "b7cdb604-f687-4971-a73d-135b8a1fe893",
     "prev": "1fd74a5e-c5f8-40f5-912b-12b02d3b8023",
     "regions": {
      "262e9e85-67fb-475d-a46e-40c71148c359": {
       "attrs": {
        "height": 0.8,
        "width": 0.8,
        "x": 0.1,
        "y": 0.1
       },
       "content": {
        "cell": "2f9ea236-ca6f-4414-9ea9-9c55adca381d",
        "part": "whole"
       },
       "id": "262e9e85-67fb-475d-a46e-40c71148c359"
      }
     }
    },
    "bcdda9c7-8818-42e4-99e7-f098624be0f7": {
     "id": "bcdda9c7-8818-42e4-99e7-f098624be0f7",
     "prev": "17863120-235f-46f3-8b5b-23836c21c023",
     "regions": {
      "70e2b45b-8e69-426c-905f-f4e0dfc4ff29": {
       "attrs": {
        "height": 0.8,
        "width": 0.8,
        "x": 0.1,
        "y": 0.1
       },
       "content": {
        "cell": "c911c382-10b6-4564-a93e-f6fd2387b31f",
        "part": "whole"
       },
       "id": "70e2b45b-8e69-426c-905f-f4e0dfc4ff29"
      }
     }
    },
    "c3cb5c36-7f12-4140-b6d3-288146c3fe6a": {
     "id": "c3cb5c36-7f12-4140-b6d3-288146c3fe6a",
     "prev": "66008711-7977-407b-b40b-9c75d5941b2e",
     "regions": {
      "fe550470-c823-4d82-89bd-900a9ab2e8ef": {
       "attrs": {
        "height": 0.8,
        "width": 0.8,
        "x": 0.1,
        "y": 0.1
       },
       "content": {
        "cell": "8b6c5e45-7d19-4a3e-85c5-d54f0682001a",
        "part": "whole"
       },
       "id": "fe550470-c823-4d82-89bd-900a9ab2e8ef"
      }
     }
    },
    "c40befb6-0df2-4e58-99fe-9c6d459b3182": {
     "id": "c40befb6-0df2-4e58-99fe-9c6d459b3182",
     "prev": "d4def968-b97e-4510-b1c2-b4536a7ba258",
     "regions": {
      "9d46cc7d-2b91-4c8b-92e0-1cd7abe881c2": {
       "attrs": {
        "height": 0.8,
        "width": 0.8,
        "x": 0.1,
        "y": 0.1
       },
       "content": {
        "cell": "2b91b3a5-4785-4ddc-9305-a0878de08e45",
        "part": "whole"
       },
       "id": "9d46cc7d-2b91-4c8b-92e0-1cd7abe881c2"
      }
     }
    },
    "ccadf178-503a-4647-aa7c-4f54ddb199ce": {
     "id": "ccadf178-503a-4647-aa7c-4f54ddb199ce",
     "prev": "48bd57e1-a950-4c1e-b82d-ba61983b5d38",
     "regions": {
      "0e79282c-b4a3-455c-b34f-d6c4dee8feb2": {
       "attrs": {
        "height": 0.8,
        "width": 0.8,
        "x": 0.1,
        "y": 0.1
       },
       "content": {
        "cell": "c40a6c1d-d4a8-4660-bd6d-7d317151c3cf",
        "part": "whole"
       },
       "id": "0e79282c-b4a3-455c-b34f-d6c4dee8feb2"
      }
     }
    },
    "d274b096-ec70-453e-9c5f-cd89f2190420": {
     "id": "d274b096-ec70-453e-9c5f-cd89f2190420",
     "prev": "42985c73-6510-4d6c-8573-6f9f89cd61ae",
     "regions": {
      "9f3e49ee-4de2-4752-9175-7c2d8764ba1c": {
       "attrs": {
        "height": 0.8,
        "width": 0.8,
        "x": 0.1,
        "y": 0.1
       },
       "content": {
        "cell": "f417a773-9e82-4ada-8250-23cee3f30f5e",
        "part": "whole"
       },
       "id": "9f3e49ee-4de2-4752-9175-7c2d8764ba1c"
      }
     }
    },
    "d4def968-b97e-4510-b1c2-b4536a7ba258": {
     "id": "d4def968-b97e-4510-b1c2-b4536a7ba258",
     "prev": "47f25c85-e623-4cad-917f-8fdc32ba1210",
     "regions": {
      "698e0bb9-b074-4919-bde3-25fd69531d28": {
       "attrs": {
        "height": 0.8,
        "width": 0.8,
        "x": 0.1,
        "y": 0.1
       },
       "content": {
        "cell": "704f0f46-42db-48cf-bab6-711edbd4633f",
        "part": "whole"
       },
       "id": "698e0bb9-b074-4919-bde3-25fd69531d28"
      }
     }
    },
    "d58d01c1-bd7b-45f1-8384-aeca07bbdea1": {
     "id": "d58d01c1-bd7b-45f1-8384-aeca07bbdea1",
     "prev": "991c5bef-16b2-4873-b741-7dfe177e0380",
     "regions": {
      "b5fd7db5-4bce-44f7-aebe-754a9ee8d546": {
       "attrs": {
        "height": 0.8,
        "width": 0.8,
        "x": 0.1,
        "y": 0.1
       },
       "content": {
        "cell": "4dbc7dce-f0de-49d2-b920-70c0a2dbbb84",
        "part": "whole"
       },
       "id": "b5fd7db5-4bce-44f7-aebe-754a9ee8d546"
      }
     }
    },
    "d77d4f72-5ce0-42f5-9173-c08e34f1f0b3": {
     "id": "d77d4f72-5ce0-42f5-9173-c08e34f1f0b3",
     "prev": "2deb05f5-d16e-401d-93ee-976009d0d6fb",
     "regions": {
      "31d309a7-ae1b-4ff1-96f0-f8e8f26df92b": {
       "attrs": {
        "height": 0.8,
        "width": 0.8,
        "x": 0.1,
        "y": 0.1
       },
       "content": {
        "cell": "13303a80-b662-4b82-8ae7-92698c99b7a9",
        "part": "whole"
       },
       "id": "31d309a7-ae1b-4ff1-96f0-f8e8f26df92b"
      }
     }
    },
    "d8016510-0c26-4008-8707-3a2230be06c9": {
     "id": "d8016510-0c26-4008-8707-3a2230be06c9",
     "prev": "7ade6f01-6113-4fa2-8737-251e22f7971f",
     "regions": {
      "af9bf91e-5f33-45c6-9ea2-1aed02d27e9e": {
       "attrs": {
        "height": 0.8,
        "width": 0.8,
        "x": 0.1,
        "y": 0.1
       },
       "content": {
        "cell": "75adc296-afcc-4160-9cac-e22f1357fa5e",
        "part": "whole"
       },
       "id": "af9bf91e-5f33-45c6-9ea2-1aed02d27e9e"
      }
     }
    },
    "da20f6f0-494e-4e37-9a3f-9ef6684663e6": {
     "id": "da20f6f0-494e-4e37-9a3f-9ef6684663e6",
     "prev": "501dbc43-3e50-47d4-988e-be3d9fec2b7f",
     "regions": {
      "7a34e448-8e31-4702-a394-792437970a95": {
       "attrs": {
        "height": 0.8,
        "width": 0.8,
        "x": 0.1,
        "y": 0.1
       },
       "content": {
        "cell": "c7e4816f-ad02-429e-a451-a04501b7ff13",
        "part": "whole"
       },
       "id": "7a34e448-8e31-4702-a394-792437970a95"
      }
     }
    },
    "da5c28c5-13ea-4204-bd96-c3d16dff3f2c": {
     "id": "da5c28c5-13ea-4204-bd96-c3d16dff3f2c",
     "prev": "78f133bb-bfe6-4827-8dd4-ae5511e6ce1e",
     "regions": {
      "2c08a516-6a81-4256-86ff-106cb5df6650": {
       "attrs": {
        "height": 0.8,
        "width": 0.8,
        "x": 0.1,
        "y": 0.1
       },
       "content": {
        "cell": "c94ccc79-9edb-4119-a832-e7c8bed9b90d",
        "part": "whole"
       },
       "id": "2c08a516-6a81-4256-86ff-106cb5df6650"
      }
     }
    },
    "ddccf0c7-284f-4bf2-9b65-233b5a6f26d9": {
     "id": "ddccf0c7-284f-4bf2-9b65-233b5a6f26d9",
     "prev": "e4bed720-2296-4cc4-8119-ab3a92a8e4bf",
     "regions": {
      "60cc49c0-e388-492b-95b0-4b8c19f8b4ba": {
       "attrs": {
        "height": 0.8,
        "width": 0.8,
        "x": 0.1,
        "y": 0.1
       },
       "content": {
        "cell": "7b8b5e4e-a650-4484-9b2e-b89711125156",
        "part": "whole"
       },
       "id": "60cc49c0-e388-492b-95b0-4b8c19f8b4ba"
      }
     }
    },
    "e4bed720-2296-4cc4-8119-ab3a92a8e4bf": {
     "id": "e4bed720-2296-4cc4-8119-ab3a92a8e4bf",
     "prev": "c40befb6-0df2-4e58-99fe-9c6d459b3182",
     "regions": {
      "da57fcba-8473-417e-b8ea-c3f404e2be48": {
       "attrs": {
        "height": 0.8,
        "width": 0.8,
        "x": 0.1,
        "y": 0.1
       },
       "content": {
        "cell": "fb8ab6c0-6b33-4edb-913f-a7bbcebc29ad",
        "part": "whole"
       },
       "id": "da57fcba-8473-417e-b8ea-c3f404e2be48"
      }
     }
    },
    "e674f456-43e0-4850-90e7-7b675883a673": {
     "id": "e674f456-43e0-4850-90e7-7b675883a673",
     "prev": "2d053899-6ac7-4994-9d30-b4725cf6ab6d",
     "regions": {
      "48e51904-e5d6-447b-848b-065365aaf94d": {
       "attrs": {
        "height": 0.8,
        "width": 0.8,
        "x": 0.1,
        "y": 0.1
       },
       "content": {
        "cell": "2a9beb20-a243-4f30-9a78-18cd509623f8",
        "part": "whole"
       },
       "id": "48e51904-e5d6-447b-848b-065365aaf94d"
      }
     }
    },
    "f1dcb6c9-545e-4081-b432-2828f97bc465": {
     "id": "f1dcb6c9-545e-4081-b432-2828f97bc465",
     "prev": "d58d01c1-bd7b-45f1-8384-aeca07bbdea1",
     "regions": {
      "aef76b30-6f11-4f8d-91c1-e38f92b49358": {
       "attrs": {
        "height": 0.8,
        "width": 0.8,
        "x": 0.1,
        "y": 0.1
       },
       "content": {
        "cell": "9f5f9748-7578-4004-b5ae-e3c8aaaec468",
        "part": "whole"
       },
       "id": "aef76b30-6f11-4f8d-91c1-e38f92b49358"
      }
     }
    },
    "f4f592be-194c-47b7-b885-55f541c3bd6f": {
     "id": "f4f592be-194c-47b7-b885-55f541c3bd6f",
     "prev": "2508948a-d5c4-4ae1-8480-bc064f978b62",
     "regions": {
      "71bcfbce-aada-4ac1-a898-9290ca5a9e3b": {
       "attrs": {
        "height": 0.8,
        "width": 0.8,
        "x": 0.1,
        "y": 0.1
       },
       "content": {
        "cell": "2f4ad7b3-2c87-43ec-9c71-cec84244a19f",
        "part": "whole"
       },
       "id": "71bcfbce-aada-4ac1-a898-9290ca5a9e3b"
      }
     }
    },
    "f6463467-594e-47d2-ad17-ebd99dcd8fbb": {
     "id": "f6463467-594e-47d2-ad17-ebd99dcd8fbb",
     "prev": "b7cdb604-f687-4971-a73d-135b8a1fe893",
     "regions": {
      "80bc8b56-2388-4d8b-a31d-d44d4a7dd301": {
       "attrs": {
        "height": 0.8,
        "width": 0.8,
        "x": 0.1,
        "y": 0.1
       },
       "content": {
        "cell": "e7a0f8d0-0592-4e8c-8702-5efec12011d5",
        "part": "whole"
       },
       "id": "80bc8b56-2388-4d8b-a31d-d44d4a7dd301"
      }
     }
    }
   },
   "themes": {
    "default": "59fa98a5-4afc-4af1-b80f-7fdc06d653ed",
    "theme": {
     "59fa98a5-4afc-4af1-b80f-7fdc06d653ed": {
      "id": "59fa98a5-4afc-4af1-b80f-7fdc06d653ed",
      "palette": {
       "19cc588f-0593-49c9-9f4b-e4d7cc113b1c": {
        "id": "19cc588f-0593-49c9-9f4b-e4d7cc113b1c",
        "rgb": [
         252,
         252,
         252
        ]
       },
       "31af15d2-7e15-44c5-ab5e-e04b16a89eff": {
        "id": "31af15d2-7e15-44c5-ab5e-e04b16a89eff",
        "rgb": [
         68,
         68,
         68
        ]
       },
       "50f92c45-a630-455b-aec3-788680ec7410": {
        "id": "50f92c45-a630-455b-aec3-788680ec7410",
        "rgb": [
         155,
         177,
         192
        ]
       },
       "c5cc3653-2ee1-402a-aba2-7caae1da4f6c": {
        "id": "c5cc3653-2ee1-402a-aba2-7caae1da4f6c",
        "rgb": [
         43,
         126,
         184
        ]
       },
       "efa7f048-9acb-414c-8b04-a26811511a21": {
        "id": "efa7f048-9acb-414c-8b04-a26811511a21",
        "rgb": [
         25.118061674008803,
         73.60176211453744,
         107.4819383259912
        ]
       }
      },
      "rules": {
       "blockquote": {
        "color": "50f92c45-a630-455b-aec3-788680ec7410"
       },
       "code": {
        "font-family": "Anonymous Pro"
       },
       "h1": {
        "color": "c5cc3653-2ee1-402a-aba2-7caae1da4f6c",
        "font-family": "Lato",
        "font-size": 8
       },
       "h2": {
        "color": "c5cc3653-2ee1-402a-aba2-7caae1da4f6c",
        "font-family": "Lato",
        "font-size": 6
       },
       "h3": {
        "color": "50f92c45-a630-455b-aec3-788680ec7410",
        "font-family": "Lato",
        "font-size": 5.5
       },
       "h4": {
        "color": "c5cc3653-2ee1-402a-aba2-7caae1da4f6c",
        "font-family": "Lato",
        "font-size": 5
       },
       "h5": {
        "font-family": "Lato"
       },
       "h6": {
        "font-family": "Lato"
       },
       "h7": {
        "font-family": "Lato"
       },
       "pre": {
        "font-family": "Anonymous Pro",
        "font-size": 4
       }
      },
      "text-base": {
       "font-family": "Merriweather",
       "font-size": 4
      }
     }
    }
   }
  }
 },
 "nbformat": 4,
 "nbformat_minor": 1
}
